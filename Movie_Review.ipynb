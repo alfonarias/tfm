{
 "cells": [
  {
   "cell_type": "markdown",
   "metadata": {},
   "source": [
    "![alt text](logo2.png \"Title\")"
   ]
  },
  {
   "cell_type": "markdown",
   "metadata": {},
   "source": [
    "# Sentiment Analysis on movie reviews"
   ]
  },
  {
   "cell_type": "markdown",
   "metadata": {},
   "source": [
    "Análisis de sentimiento mediante Recurrent Neural Networs usando el dataset publicado en http://ai.stanford.edu/~amaas/data/sentiment/ y procesado en un único .csv por https://www.kaggle.com/utathya/imdb-review-dataset"
   ]
  },
  {
   "cell_type": "code",
   "execution_count": 1,
   "metadata": {},
   "outputs": [],
   "source": [
    "import pandas as pd\n",
    "from datetime import datetime"
   ]
  },
  {
   "cell_type": "code",
   "execution_count": 2,
   "metadata": {},
   "outputs": [
    {
     "data": {
      "text/html": [
       "<div>\n",
       "<style scoped>\n",
       "    .dataframe tbody tr th:only-of-type {\n",
       "        vertical-align: middle;\n",
       "    }\n",
       "\n",
       "    .dataframe tbody tr th {\n",
       "        vertical-align: top;\n",
       "    }\n",
       "\n",
       "    .dataframe thead th {\n",
       "        text-align: right;\n",
       "    }\n",
       "</style>\n",
       "<table border=\"1\" class=\"dataframe\">\n",
       "  <thead>\n",
       "    <tr style=\"text-align: right;\">\n",
       "      <th></th>\n",
       "      <th>type</th>\n",
       "      <th>review</th>\n",
       "      <th>label</th>\n",
       "      <th>file</th>\n",
       "    </tr>\n",
       "  </thead>\n",
       "  <tbody>\n",
       "    <tr>\n",
       "      <th>0</th>\n",
       "      <td>test</td>\n",
       "      <td>Once again Mr. Costner has dragged out a movie...</td>\n",
       "      <td>neg</td>\n",
       "      <td>0_2.txt</td>\n",
       "    </tr>\n",
       "    <tr>\n",
       "      <th>1</th>\n",
       "      <td>test</td>\n",
       "      <td>This is an example of why the majority of acti...</td>\n",
       "      <td>neg</td>\n",
       "      <td>10000_4.txt</td>\n",
       "    </tr>\n",
       "    <tr>\n",
       "      <th>2</th>\n",
       "      <td>test</td>\n",
       "      <td>First of all I hate those moronic rappers, who...</td>\n",
       "      <td>neg</td>\n",
       "      <td>10001_1.txt</td>\n",
       "    </tr>\n",
       "    <tr>\n",
       "      <th>3</th>\n",
       "      <td>test</td>\n",
       "      <td>Not even the Beatles could write songs everyon...</td>\n",
       "      <td>neg</td>\n",
       "      <td>10002_3.txt</td>\n",
       "    </tr>\n",
       "    <tr>\n",
       "      <th>4</th>\n",
       "      <td>test</td>\n",
       "      <td>Brass pictures (movies is not a fitting word f...</td>\n",
       "      <td>neg</td>\n",
       "      <td>10003_3.txt</td>\n",
       "    </tr>\n",
       "  </tbody>\n",
       "</table>\n",
       "</div>"
      ],
      "text/plain": [
       "   type                                             review label         file\n",
       "0  test  Once again Mr. Costner has dragged out a movie...   neg      0_2.txt\n",
       "1  test  This is an example of why the majority of acti...   neg  10000_4.txt\n",
       "2  test  First of all I hate those moronic rappers, who...   neg  10001_1.txt\n",
       "3  test  Not even the Beatles could write songs everyon...   neg  10002_3.txt\n",
       "4  test  Brass pictures (movies is not a fitting word f...   neg  10003_3.txt"
      ]
     },
     "execution_count": 2,
     "metadata": {},
     "output_type": "execute_result"
    }
   ],
   "source": [
    "data = pd.read_csv(\"imdb_master.csv\", encoding='latin-1', index_col = 0)\n",
    "data.head()"
   ]
  },
  {
   "cell_type": "code",
   "execution_count": 3,
   "metadata": {},
   "outputs": [],
   "source": [
    "data_labeled = data[data.label != 'unsup']\n",
    "del data"
   ]
  },
  {
   "cell_type": "code",
   "execution_count": 4,
   "metadata": {},
   "outputs": [
    {
     "name": "stdout",
     "output_type": "stream",
     "text": [
      "Número total de reviews -->  50000\n",
      "Número total de reviews positivas -->  25000\n",
      "Número total de reviews negativas -->  25000\n"
     ]
    }
   ],
   "source": [
    "print(\"Número total de reviews --> \",len(data_labeled))\n",
    "print(\"Número total de reviews positivas --> \",len(data_labeled[data_labeled[\"label\"]=='pos']))\n",
    "print(\"Número total de reviews negativas --> \",len(data_labeled[data_labeled[\"label\"]=='neg']))"
   ]
  },
  {
   "cell_type": "code",
   "execution_count": 5,
   "metadata": {},
   "outputs": [],
   "source": [
    "y=data_labeled['label'].apply(lambda x: 0 if x == 'neg' else 1)"
   ]
  },
  {
   "cell_type": "markdown",
   "metadata": {},
   "source": [
    "## Entrenamiento con 7500 reviews"
   ]
  },
  {
   "cell_type": "markdown",
   "metadata": {},
   "source": [
    "Dividiremos el conjunto data_labeled en dos conjuntos, uno large y otro small. Ahora entrenaremos el modelos con un conjunto de 7500 reviews y reservaremos 2500 como test data set."
   ]
  },
  {
   "cell_type": "code",
   "execution_count": 6,
   "metadata": {},
   "outputs": [],
   "source": [
    "from sklearn.model_selection import train_test_split\n",
    "\n",
    "#Aislamos nuestro conjunto de test y de train\n",
    "reviews_large, reviews_test, y_large, y_test = train_test_split(data_labeled['review'], y, test_size=2500, stratify=y)\n",
    "\n",
    "#Extraemos un subconjunto de entrenamiento de solo 7500 reviews\n",
    "reviews_rest, reviews_train, y_rest, y_train = train_test_split(reviews_large, y_large, test_size=7500, stratify=y_large)"
   ]
  },
  {
   "cell_type": "markdown",
   "metadata": {},
   "source": [
    "#### Procesamiento de texto "
   ]
  },
  {
   "cell_type": "code",
   "execution_count": 7,
   "metadata": {},
   "outputs": [
    {
     "name": "stderr",
     "output_type": "stream",
     "text": [
      "C:\\Users\\Alfonso.arias\\AppData\\Local\\Continuum\\anaconda3\\lib\\site-packages\\h5py\\__init__.py:36: FutureWarning: Conversion of the second argument of issubdtype from `float` to `np.floating` is deprecated. In future, it will be treated as `np.float64 == np.dtype(float).type`.\n",
      "  from ._conv import register_converters as _register_converters\n",
      "Using TensorFlow backend.\n"
     ]
    }
   ],
   "source": [
    "import keras"
   ]
  },
  {
   "cell_type": "code",
   "execution_count": 8,
   "metadata": {},
   "outputs": [],
   "source": [
    "max_dic = 1000 #Número máximo de palabras que tendrá nuestro diccionario.\n",
    "\n",
    "#El Tokenizer de Keras nos permite quedarnos con las palabras más frecuentes de todas las reviews\n",
    "diccionario = keras.preprocessing.text.Tokenizer(num_words = max_dic)\n",
    "diccionario.fit_on_texts(reviews_train)\n",
    "#Ahora, por cada review obtenemos un vector de enteros indicando la palabra del diccionario\n",
    "X_train = diccionario.texts_to_sequences(reviews_train)\n",
    "\n",
    "#Realizamos lo mismo para el data set de test\n",
    "X_test = diccionario.texts_to_sequences(reviews_test)"
   ]
  },
  {
   "cell_type": "code",
   "execution_count": 9,
   "metadata": {},
   "outputs": [],
   "source": [
    "#Es recomendable que todas las reviews tengan la misma extensión de palabras\n",
    "max_palabras=300\n",
    "X_train=keras.preprocessing.sequence.pad_sequences(X_train,maxlen=max_palabras)\n",
    "X_test=keras.preprocessing.sequence.pad_sequences(X_test,maxlen=max_palabras)"
   ]
  },
  {
   "cell_type": "markdown",
   "metadata": {},
   "source": [
    "#### Estructuras RNN"
   ]
  },
  {
   "cell_type": "code",
   "execution_count": 10,
   "metadata": {},
   "outputs": [
    {
     "name": "stdout",
     "output_type": "stream",
     "text": [
      "_________________________________________________________________\n",
      "Layer (type)                 Output Shape              Param #   \n",
      "=================================================================\n",
      "embedding_1 (Embedding)      (None, 300, 64)           64000     \n",
      "_________________________________________________________________\n",
      "lstm_1 (LSTM)                (None, 32)                12416     \n",
      "_________________________________________________________________\n",
      "dense_1 (Dense)              (None, 1)                 33        \n",
      "_________________________________________________________________\n",
      "activation_1 (Activation)    (None, 1)                 0         \n",
      "=================================================================\n",
      "Total params: 76,449\n",
      "Trainable params: 76,449\n",
      "Non-trainable params: 0\n",
      "_________________________________________________________________\n"
     ]
    }
   ],
   "source": [
    "red_neuronal=keras.models.Sequential()\n",
    "\n",
    "#Primera capa tipo embedding. Creamos un embedding de dimensión 64\n",
    "red_neuronal.add(keras.layers.embeddings.Embedding(input_dim=max_dic, input_length=max_palabras, output_dim=64))\n",
    "\n",
    "#Segunda capa tipo LSTM con 32 neuronas. Devuelve un vector después de procesar la secuencia completa\n",
    "red_neuronal.add(keras.layers.recurrent.LSTM(32))\n",
    "\n",
    "#Última capa que devuelve un valor entre 0 y 1\n",
    "red_neuronal.add(keras.layers.core.Dense(1))\n",
    "red_neuronal.add(keras.layers.core.Activation('sigmoid'))\n",
    "\n",
    "red_neuronal.summary()"
   ]
  },
  {
   "cell_type": "code",
   "execution_count": 11,
   "metadata": {},
   "outputs": [],
   "source": [
    "red_neuronal.compile(loss='binary_crossentropy', optimizer='adam', metrics=['accuracy'])"
   ]
  },
  {
   "cell_type": "code",
   "execution_count": 12,
   "metadata": {
    "scrolled": true
   },
   "outputs": [
    {
     "name": "stdout",
     "output_type": "stream",
     "text": [
      "Epoch 1/5\n",
      "7500/7500 [==============================] - 30s 4ms/step - loss: 0.5446 - acc: 0.7139\n",
      "Epoch 2/5\n",
      "7500/7500 [==============================] - 29s 4ms/step - loss: 0.3916 - acc: 0.8317\n",
      "Epoch 3/5\n",
      "7500/7500 [==============================] - 29s 4ms/step - loss: 0.3557 - acc: 0.8513\n",
      "Epoch 4/5\n",
      "7500/7500 [==============================] - 29s 4ms/step - loss: 0.3301 - acc: 0.8647\n",
      "Epoch 5/5\n",
      "7500/7500 [==============================] - 29s 4ms/step - loss: 0.2760 - acc: 0.8881\n"
     ]
    }
   ],
   "source": [
    "startTime = datetime.now()\n",
    "history=red_neuronal.fit(X_train, y_train, batch_size=32, epochs=5)\n",
    "time=datetime.now() - startTime"
   ]
  },
  {
   "cell_type": "code",
   "execution_count": 13,
   "metadata": {},
   "outputs": [
    {
     "name": "stdout",
     "output_type": "stream",
     "text": [
      "2500/2500 [==============================] - 2s 881us/step\n",
      "Test loss 0.36444859922528267\n",
      "Test accuracy 0.8364\n",
      "          testAccuracy  testLoss  trainAccuracy  trainLoss       trainTime\n",
      "LSTM-1hl        0.8364  0.364449       0.888133   0.275954 00:02:27.162798\n"
     ]
    }
   ],
   "source": [
    "validacion=red_neuronal.evaluate(X_test, y_test)\n",
    "print(\"Test loss\", validacion[0])\n",
    "print(\"Test accuracy\", validacion[1])\n",
    "df=pd.DataFrame({'testLoss': validacion[0], 'testAccuracy': validacion[1], 'trainLoss':history.history['loss'][-1], 'trainAccuracy':history.history['acc'][-1],'trainTime':time },index=['LSTM-1hl'])\n",
    "print(df)"
   ]
  },
  {
   "cell_type": "markdown",
   "metadata": {},
   "source": [
    "Observamos que la precisión de nuestro conjunto de entrenamiento es mucho mayor que la de nuestro conjunto de test. Para solucionarlo, usaremos Dropout"
   ]
  },
  {
   "cell_type": "code",
   "execution_count": 14,
   "metadata": {
    "scrolled": true
   },
   "outputs": [
    {
     "name": "stdout",
     "output_type": "stream",
     "text": [
      "_________________________________________________________________\n",
      "Layer (type)                 Output Shape              Param #   \n",
      "=================================================================\n",
      "embedding_2 (Embedding)      (None, 300, 64)           64000     \n",
      "_________________________________________________________________\n",
      "lstm_2 (LSTM)                (None, 32)                12416     \n",
      "_________________________________________________________________\n",
      "dense_2 (Dense)              (None, 1)                 33        \n",
      "_________________________________________________________________\n",
      "activation_2 (Activation)    (None, 1)                 0         \n",
      "=================================================================\n",
      "Total params: 76,449\n",
      "Trainable params: 76,449\n",
      "Non-trainable params: 0\n",
      "_________________________________________________________________\n"
     ]
    }
   ],
   "source": [
    "red_neuronal=keras.models.Sequential()\n",
    "red_neuronal.add(keras.layers.embeddings.Embedding(input_dim=max_dic, input_length=max_palabras, output_dim=64))\n",
    "red_neuronal.add(keras.layers.recurrent.LSTM(32,recurrent_dropout=0.3))\n",
    "red_neuronal.add(keras.layers.core.Dense(1))\n",
    "red_neuronal.add(keras.layers.core.Activation('sigmoid'))\n",
    "red_neuronal.summary()"
   ]
  },
  {
   "cell_type": "code",
   "execution_count": 15,
   "metadata": {
    "scrolled": true
   },
   "outputs": [
    {
     "name": "stdout",
     "output_type": "stream",
     "text": [
      "Epoch 1/5\n",
      "7500/7500 [==============================] - 34s 4ms/step - loss: 0.5906 - acc: 0.6856\n",
      "Epoch 2/5\n",
      "7500/7500 [==============================] - 33s 4ms/step - loss: 0.4534 - acc: 0.7989\n",
      "Epoch 3/5\n",
      "7500/7500 [==============================] - 33s 4ms/step - loss: 0.4373 - acc: 0.8027\n",
      "Epoch 4/5\n",
      "7500/7500 [==============================] - 34s 4ms/step - loss: 0.4169 - acc: 0.8189\n",
      "Epoch 5/5\n",
      "7500/7500 [==============================] - 33s 4ms/step - loss: 0.3927 - acc: 0.8284\n"
     ]
    }
   ],
   "source": [
    "red_neuronal.compile(loss='binary_crossentropy', optimizer='adam', metrics=[\"accuracy\"])\n",
    "startTime = datetime.now()\n",
    "history=red_neuronal.fit(X_train, y_train, batch_size=32, epochs=5)\n",
    "time=datetime.now() - startTime"
   ]
  },
  {
   "cell_type": "code",
   "execution_count": 16,
   "metadata": {},
   "outputs": [
    {
     "name": "stdout",
     "output_type": "stream",
     "text": [
      "2500/2500 [==============================] - 2s 986us/step\n",
      "Test loss 0.43476067386865613\n",
      "Test accuracy 0.8088\n",
      "               testAccuracy  testLoss  trainAccuracy  trainLoss  \\\n",
      "LSTM-1hl             0.8364  0.364449       0.888133   0.275954   \n",
      "LSTM-1hl-drop        0.8088  0.434761       0.828400   0.392736   \n",
      "\n",
      "                    trainTime  \n",
      "LSTM-1hl      00:02:27.162798  \n",
      "LSTM-1hl-drop 00:02:48.225743  \n"
     ]
    }
   ],
   "source": [
    "validacion=red_neuronal.evaluate(X_test, y_test)\n",
    "print(\"Test loss\", validacion[0])\n",
    "print(\"Test accuracy\", validacion[1])\n",
    "df=df.append(pd.Series({'testLoss': validacion[0], 'testAccuracy': validacion[1], 'trainLoss':history.history['loss'][-1], 'trainAccuracy':history.history['acc'][-1],'trainTime':time},name='LSTM-1hl-drop'))\n",
    "print(df)"
   ]
  },
  {
   "cell_type": "markdown",
   "metadata": {},
   "source": [
    "Observamos que no se obtiene tanto overfitting. Vamos a añadir otro LSTM layer manteniendo los dropout."
   ]
  },
  {
   "cell_type": "code",
   "execution_count": 17,
   "metadata": {},
   "outputs": [
    {
     "name": "stdout",
     "output_type": "stream",
     "text": [
      "_________________________________________________________________\n",
      "Layer (type)                 Output Shape              Param #   \n",
      "=================================================================\n",
      "embedding_3 (Embedding)      (None, 300, 64)           64000     \n",
      "_________________________________________________________________\n",
      "lstm_3 (LSTM)                (None, 300, 32)           12416     \n",
      "_________________________________________________________________\n",
      "lstm_4 (LSTM)                (None, 32)                8320      \n",
      "_________________________________________________________________\n",
      "dense_3 (Dense)              (None, 1)                 33        \n",
      "_________________________________________________________________\n",
      "activation_3 (Activation)    (None, 1)                 0         \n",
      "=================================================================\n",
      "Total params: 84,769\n",
      "Trainable params: 84,769\n",
      "Non-trainable params: 0\n",
      "_________________________________________________________________\n"
     ]
    }
   ],
   "source": [
    "red_neuronal=keras.models.Sequential()\n",
    "red_neuronal.add(keras.layers.embeddings.Embedding(input_dim=max_dic, input_length=max_palabras, output_dim=64))\n",
    "red_neuronal.add(keras.layers.recurrent.LSTM(32,recurrent_dropout=0.3,return_sequences=True))\n",
    "red_neuronal.add(keras.layers.recurrent.LSTM(32,recurrent_dropout=0.3))\n",
    "red_neuronal.add(keras.layers.core.Dense(1))\n",
    "red_neuronal.add(keras.layers.core.Activation('sigmoid'))\n",
    "red_neuronal.summary()"
   ]
  },
  {
   "cell_type": "code",
   "execution_count": 18,
   "metadata": {
    "scrolled": true
   },
   "outputs": [
    {
     "name": "stdout",
     "output_type": "stream",
     "text": [
      "Epoch 1/5\n",
      "7500/7500 [==============================] - 64s 8ms/step - loss: 0.5693 - acc: 0.6968\n",
      "Epoch 2/5\n",
      "7500/7500 [==============================] - 62s 8ms/step - loss: 0.4494 - acc: 0.7997\n",
      "Epoch 3/5\n",
      "7500/7500 [==============================] - 62s 8ms/step - loss: 0.4149 - acc: 0.8203\n",
      "Epoch 4/5\n",
      "7500/7500 [==============================] - 63s 8ms/step - loss: 0.3927 - acc: 0.8293\n",
      "Epoch 5/5\n",
      "7500/7500 [==============================] - 63s 8ms/step - loss: 0.3790 - acc: 0.8428\n"
     ]
    }
   ],
   "source": [
    "red_neuronal.compile(loss='binary_crossentropy', optimizer='adam', metrics=[\"accuracy\"])\n",
    "startTime = datetime.now()\n",
    "history=red_neuronal.fit(X_train, y_train, batch_size=32, epochs=5)\n",
    "time=datetime.now() - startTime"
   ]
  },
  {
   "cell_type": "code",
   "execution_count": 19,
   "metadata": {},
   "outputs": [
    {
     "name": "stdout",
     "output_type": "stream",
     "text": [
      "2500/2500 [==============================] - 4s 2ms/step\n",
      "Test loss 0.445003527545929\n",
      "Test accuracy 0.804\n",
      "               testAccuracy  testLoss  trainAccuracy  trainLoss  \\\n",
      "LSTM-1hl             0.8364  0.364449       0.888133   0.275954   \n",
      "LSTM-1hl-drop        0.8088  0.434761       0.828400   0.392736   \n",
      "LSTM-2hl-drop        0.8040  0.445004       0.842800   0.378978   \n",
      "\n",
      "                    trainTime  \n",
      "LSTM-1hl      00:02:27.162798  \n",
      "LSTM-1hl-drop 00:02:48.225743  \n",
      "LSTM-2hl-drop 00:05:16.154574  \n"
     ]
    }
   ],
   "source": [
    "validacion=red_neuronal.evaluate(X_test, y_test)\n",
    "print(\"Test loss\", validacion[0])\n",
    "print(\"Test accuracy\", validacion[1])\n",
    "df=df.append(pd.Series({'testLoss': validacion[0], 'testAccuracy': validacion[1], 'trainLoss':history.history['loss'][-1], 'trainAccuracy':history.history['acc'][-1],'trainTime':time},name='LSTM-2hl-drop'))\n",
    "print(df)"
   ]
  },
  {
   "cell_type": "markdown",
   "metadata": {},
   "source": [
    "Usaremos ahora BRNN"
   ]
  },
  {
   "cell_type": "code",
   "execution_count": 20,
   "metadata": {},
   "outputs": [
    {
     "name": "stdout",
     "output_type": "stream",
     "text": [
      "_________________________________________________________________\n",
      "Layer (type)                 Output Shape              Param #   \n",
      "=================================================================\n",
      "embedding_4 (Embedding)      (None, 300, 64)           64000     \n",
      "_________________________________________________________________\n",
      "bidirectional_1 (Bidirection (None, 64)                24832     \n",
      "_________________________________________________________________\n",
      "dense_4 (Dense)              (None, 1)                 65        \n",
      "_________________________________________________________________\n",
      "activation_4 (Activation)    (None, 1)                 0         \n",
      "=================================================================\n",
      "Total params: 88,897\n",
      "Trainable params: 88,897\n",
      "Non-trainable params: 0\n",
      "_________________________________________________________________\n"
     ]
    }
   ],
   "source": [
    "red_neuronal=keras.models.Sequential()\n",
    "red_neuronal.add(keras.layers.embeddings.Embedding(input_dim=max_dic, input_length=max_palabras, output_dim=64))\n",
    "red_neuronal.add(keras.layers.Bidirectional(keras.layers.recurrent.LSTM(32,recurrent_dropout=0.3)))\n",
    "red_neuronal.add(keras.layers.core.Dense(1))\n",
    "red_neuronal.add(keras.layers.core.Activation('sigmoid'))\n",
    "red_neuronal.summary()"
   ]
  },
  {
   "cell_type": "code",
   "execution_count": 21,
   "metadata": {},
   "outputs": [
    {
     "name": "stdout",
     "output_type": "stream",
     "text": [
      "Epoch 1/5\n",
      "7500/7500 [==============================] - 63s 8ms/step - loss: 0.6044 - acc: 0.6724\n",
      "Epoch 2/5\n",
      "7500/7500 [==============================] - 62s 8ms/step - loss: 0.4637 - acc: 0.7939\n",
      "Epoch 3/5\n",
      "7500/7500 [==============================] - 62s 8ms/step - loss: 0.4212 - acc: 0.8151\n",
      "Epoch 4/5\n",
      "7500/7500 [==============================] - 62s 8ms/step - loss: 0.4100 - acc: 0.8225\n",
      "Epoch 5/5\n",
      "7500/7500 [==============================] - 66s 9ms/step - loss: 0.4131 - acc: 0.8169\n"
     ]
    }
   ],
   "source": [
    "red_neuronal.compile(loss='binary_crossentropy', optimizer='adam', metrics=[\"accuracy\"])\n",
    "startTime = datetime.now()\n",
    "history=red_neuronal.fit(X_train, y_train, batch_size=32, epochs=5)\n",
    "time=datetime.now() - startTime"
   ]
  },
  {
   "cell_type": "code",
   "execution_count": 22,
   "metadata": {},
   "outputs": [
    {
     "name": "stdout",
     "output_type": "stream",
     "text": [
      "2500/2500 [==============================] - 4s 2ms/step\n",
      "Test loss 0.4696289874315262\n",
      "Test accuracy 0.78\n",
      "               testAccuracy  testLoss  trainAccuracy  trainLoss  \\\n",
      "LSTM-1hl             0.8364  0.364449       0.888133   0.275954   \n",
      "LSTM-1hl-drop        0.8088  0.434761       0.828400   0.392736   \n",
      "LSTM-2hl-drop        0.8040  0.445004       0.842800   0.378978   \n",
      "BRNN-1hl-drop        0.7800  0.469629       0.816933   0.413109   \n",
      "\n",
      "                    trainTime  \n",
      "LSTM-1hl      00:02:27.162798  \n",
      "LSTM-1hl-drop 00:02:48.225743  \n",
      "LSTM-2hl-drop 00:05:16.154574  \n",
      "BRNN-1hl-drop 00:05:16.401130  \n"
     ]
    }
   ],
   "source": [
    "validacion=red_neuronal.evaluate(X_test, y_test)\n",
    "print(\"Test loss\", validacion[0])\n",
    "print(\"Test accuracy\", validacion[1])\n",
    "df=df.append(pd.Series({'testLoss': validacion[0], 'testAccuracy': validacion[1], 'trainLoss':history.history['loss'][-1], 'trainAccuracy':history.history['acc'][-1],'trainTime':time},name='BRNN-1hl-drop'))\n",
    "print(df)"
   ]
  },
  {
   "cell_type": "code",
   "execution_count": 23,
   "metadata": {},
   "outputs": [
    {
     "name": "stdout",
     "output_type": "stream",
     "text": [
      "_________________________________________________________________\n",
      "Layer (type)                 Output Shape              Param #   \n",
      "=================================================================\n",
      "embedding_5 (Embedding)      (None, 300, 64)           64000     \n",
      "_________________________________________________________________\n",
      "bidirectional_2 (Bidirection (None, 300, 64)           24832     \n",
      "_________________________________________________________________\n",
      "bidirectional_3 (Bidirection (None, 64)                24832     \n",
      "_________________________________________________________________\n",
      "dense_5 (Dense)              (None, 1)                 65        \n",
      "_________________________________________________________________\n",
      "activation_5 (Activation)    (None, 1)                 0         \n",
      "=================================================================\n",
      "Total params: 113,729\n",
      "Trainable params: 113,729\n",
      "Non-trainable params: 0\n",
      "_________________________________________________________________\n"
     ]
    }
   ],
   "source": [
    "red_neuronal=keras.models.Sequential()\n",
    "red_neuronal.add(keras.layers.embeddings.Embedding(input_dim=max_dic, input_length=max_palabras, output_dim=64))\n",
    "red_neuronal.add(keras.layers.Bidirectional(keras.layers.recurrent.LSTM(32,recurrent_dropout=0.3,return_sequences=True)))\n",
    "red_neuronal.add(keras.layers.Bidirectional(keras.layers.recurrent.LSTM(32,recurrent_dropout=0.3)))\n",
    "red_neuronal.add(keras.layers.core.Dense(1))\n",
    "red_neuronal.add(keras.layers.core.Activation('sigmoid'))\n",
    "red_neuronal.summary()"
   ]
  },
  {
   "cell_type": "code",
   "execution_count": 24,
   "metadata": {},
   "outputs": [
    {
     "name": "stdout",
     "output_type": "stream",
     "text": [
      "Epoch 1/5\n",
      "7500/7500 [==============================] - 121s 16ms/step - loss: 0.5592 - acc: 0.7011\n",
      "Epoch 2/5\n",
      "7500/7500 [==============================] - 118s 16ms/step - loss: 0.4733 - acc: 0.7809\n",
      "Epoch 3/5\n",
      "7500/7500 [==============================] - 119s 16ms/step - loss: 0.4373 - acc: 0.8021\n",
      "Epoch 4/5\n",
      "7500/7500 [==============================] - 117s 16ms/step - loss: 0.4057 - acc: 0.8268\n",
      "Epoch 5/5\n",
      "7500/7500 [==============================] - 116s 16ms/step - loss: 0.4059 - acc: 0.8213\n"
     ]
    }
   ],
   "source": [
    "red_neuronal.compile(loss='binary_crossentropy', optimizer='adam', metrics=[\"accuracy\"])\n",
    "startTime = datetime.now()\n",
    "history=red_neuronal.fit(X_train, y_train, batch_size=32, epochs=5)\n",
    "time=datetime.now() - startTime"
   ]
  },
  {
   "cell_type": "code",
   "execution_count": 25,
   "metadata": {},
   "outputs": [
    {
     "name": "stdout",
     "output_type": "stream",
     "text": [
      "2500/2500 [==============================] - 9s 4ms/step\n",
      "Test loss 0.4378792983055115\n",
      "Test accuracy 0.8072\n",
      "               testAccuracy  testLoss  trainAccuracy  trainLoss  \\\n",
      "LSTM-1hl             0.8364  0.364449       0.888133   0.275954   \n",
      "LSTM-1hl-drop        0.8088  0.434761       0.828400   0.392736   \n",
      "LSTM-2hl-drop        0.8040  0.445004       0.842800   0.378978   \n",
      "BRNN-1hl-drop        0.7800  0.469629       0.816933   0.413109   \n",
      "BRNN-2hl-drop        0.8072  0.437879       0.821333   0.405872   \n",
      "\n",
      "                    trainTime  \n",
      "LSTM-1hl      00:02:27.162798  \n",
      "LSTM-1hl-drop 00:02:48.225743  \n",
      "LSTM-2hl-drop 00:05:16.154574  \n",
      "BRNN-1hl-drop 00:05:16.401130  \n",
      "BRNN-2hl-drop 00:09:55.164427  \n"
     ]
    }
   ],
   "source": [
    "validacion=red_neuronal.evaluate(X_test, y_test)\n",
    "print(\"Test loss\", validacion[0])\n",
    "print(\"Test accuracy\", validacion[1])\n",
    "df=df.append(pd.Series({'testLoss': validacion[0], 'testAccuracy': validacion[1], 'trainLoss':history.history['loss'][-1], 'trainAccuracy':history.history['acc'][-1],'trainTime':time},name='BRNN-2hl-drop'))\n",
    "print(df)"
   ]
  },
  {
   "cell_type": "markdown",
   "metadata": {},
   "source": [
    "## Entrenamiento con 47500 reviews"
   ]
  },
  {
   "cell_type": "code",
   "execution_count": 26,
   "metadata": {},
   "outputs": [],
   "source": [
    "#Debemos usar el dataset grande para definir un nuevo diccionario\n",
    "diccionario_large = keras.preprocessing.text.Tokenizer(num_words = max_dic)\n",
    "diccionario_large.fit_on_texts(reviews_train)\n",
    "X_train_large = diccionario_large.texts_to_sequences(reviews_large)\n",
    "X_test_large = diccionario_large.texts_to_sequences(reviews_test)"
   ]
  },
  {
   "cell_type": "code",
   "execution_count": 27,
   "metadata": {},
   "outputs": [],
   "source": [
    "max_palabras=300\n",
    "X_train_large=keras.preprocessing.sequence.pad_sequences(X_train_large,maxlen=max_palabras)\n",
    "X_test_large=keras.preprocessing.sequence.pad_sequences(X_test_large,maxlen=max_palabras)"
   ]
  },
  {
   "cell_type": "code",
   "execution_count": 28,
   "metadata": {},
   "outputs": [
    {
     "name": "stdout",
     "output_type": "stream",
     "text": [
      "_________________________________________________________________\n",
      "Layer (type)                 Output Shape              Param #   \n",
      "=================================================================\n",
      "embedding_6 (Embedding)      (None, 300, 64)           64000     \n",
      "_________________________________________________________________\n",
      "lstm_8 (LSTM)                (None, 32)                12416     \n",
      "_________________________________________________________________\n",
      "dense_6 (Dense)              (None, 1)                 33        \n",
      "_________________________________________________________________\n",
      "activation_6 (Activation)    (None, 1)                 0         \n",
      "=================================================================\n",
      "Total params: 76,449\n",
      "Trainable params: 76,449\n",
      "Non-trainable params: 0\n",
      "_________________________________________________________________\n"
     ]
    }
   ],
   "source": [
    "red_neuronal=keras.models.Sequential()\n",
    "red_neuronal.add(keras.layers.embeddings.Embedding(input_dim=max_dic, input_length=max_palabras, output_dim=64))\n",
    "red_neuronal.add(keras.layers.recurrent.LSTM(32))\n",
    "red_neuronal.add(keras.layers.core.Dense(1))\n",
    "red_neuronal.add(keras.layers.core.Activation('sigmoid'))\n",
    "red_neuronal.summary()"
   ]
  },
  {
   "cell_type": "code",
   "execution_count": 29,
   "metadata": {},
   "outputs": [
    {
     "name": "stdout",
     "output_type": "stream",
     "text": [
      "Epoch 1/5\n",
      "47500/47500 [==============================] - 185s 4ms/step - loss: 0.3885 - acc: 0.8256\n",
      "Epoch 2/5\n",
      "47500/47500 [==============================] - 184s 4ms/step - loss: 0.3191 - acc: 0.8665\n",
      "Epoch 3/5\n",
      "47500/47500 [==============================] - 185s 4ms/step - loss: 0.2970 - acc: 0.8748\n",
      "Epoch 4/5\n",
      "47500/47500 [==============================] - 187s 4ms/step - loss: 0.2717 - acc: 0.8874\n",
      "Epoch 5/5\n",
      "47500/47500 [==============================] - 186s 4ms/step - loss: 0.2565 - acc: 0.8939\n"
     ]
    }
   ],
   "source": [
    "red_neuronal.compile(loss='binary_crossentropy', optimizer='adam', metrics=[\"accuracy\"])\n",
    "startTime = datetime.now()\n",
    "history=red_neuronal.fit(X_train_large, y_large, batch_size=32, epochs=5)\n",
    "time=datetime.now() - startTime"
   ]
  },
  {
   "cell_type": "code",
   "execution_count": 30,
   "metadata": {},
   "outputs": [
    {
     "name": "stdout",
     "output_type": "stream",
     "text": [
      "2500/2500 [==============================] - 3s 1ms/step\n",
      "Test loss 0.27968829569518566\n",
      "Test accuracy 0.8788\n",
      "                testAccuracy  testLoss  trainAccuracy  trainLoss  \\\n",
      "LSTM-1hl              0.8364  0.364449       0.888133   0.275954   \n",
      "LSTM-1hl-drop         0.8088  0.434761       0.828400   0.392736   \n",
      "LSTM-2hl-drop         0.8040  0.445004       0.842800   0.378978   \n",
      "BRNN-1hl-drop         0.7800  0.469629       0.816933   0.413109   \n",
      "BRNN-2hl-drop         0.8072  0.437879       0.821333   0.405872   \n",
      "large-LSTM-1hl        0.8788  0.279688       0.893916   0.256513   \n",
      "\n",
      "                     trainTime  \n",
      "LSTM-1hl       00:02:27.162798  \n",
      "LSTM-1hl-drop  00:02:48.225743  \n",
      "LSTM-2hl-drop  00:05:16.154574  \n",
      "BRNN-1hl-drop  00:05:16.401130  \n",
      "BRNN-2hl-drop  00:09:55.164427  \n",
      "large-LSTM-1hl 00:15:27.364819  \n"
     ]
    }
   ],
   "source": [
    "validacion=red_neuronal.evaluate(X_test, y_test)\n",
    "print(\"Test loss\", validacion[0])\n",
    "print(\"Test accuracy\", validacion[1])\n",
    "df=df.append(pd.Series({'testLoss': validacion[0], 'testAccuracy': validacion[1], 'trainLoss':history.history['loss'][-1], 'trainAccuracy':history.history['acc'][-1],'trainTime':time},name='large-LSTM-1hl'))\n",
    "print(df)"
   ]
  },
  {
   "cell_type": "markdown",
   "metadata": {},
   "source": [
    "Añadimos dropout"
   ]
  },
  {
   "cell_type": "code",
   "execution_count": 31,
   "metadata": {
    "scrolled": true
   },
   "outputs": [
    {
     "name": "stdout",
     "output_type": "stream",
     "text": [
      "_________________________________________________________________\n",
      "Layer (type)                 Output Shape              Param #   \n",
      "=================================================================\n",
      "embedding_7 (Embedding)      (None, 300, 64)           64000     \n",
      "_________________________________________________________________\n",
      "lstm_9 (LSTM)                (None, 32)                12416     \n",
      "_________________________________________________________________\n",
      "dense_7 (Dense)              (None, 1)                 33        \n",
      "_________________________________________________________________\n",
      "activation_7 (Activation)    (None, 1)                 0         \n",
      "=================================================================\n",
      "Total params: 76,449\n",
      "Trainable params: 76,449\n",
      "Non-trainable params: 0\n",
      "_________________________________________________________________\n"
     ]
    }
   ],
   "source": [
    "red_neuronal=keras.models.Sequential()\n",
    "red_neuronal.add(keras.layers.embeddings.Embedding(input_dim=max_dic, input_length=max_palabras, output_dim=64))\n",
    "red_neuronal.add(keras.layers.recurrent.LSTM(32,recurrent_dropout=0.3))\n",
    "red_neuronal.add(keras.layers.core.Dense(1))\n",
    "red_neuronal.add(keras.layers.core.Activation('sigmoid'))\n",
    "red_neuronal.summary()"
   ]
  },
  {
   "cell_type": "code",
   "execution_count": 32,
   "metadata": {
    "scrolled": true
   },
   "outputs": [
    {
     "name": "stdout",
     "output_type": "stream",
     "text": [
      "Epoch 1/5\n",
      "47500/47500 [==============================] - 214s 5ms/step - loss: 0.4725 - acc: 0.7799\n",
      "Epoch 2/5\n",
      "47500/47500 [==============================] - 215s 5ms/step - loss: 0.4139 - acc: 0.8185\n",
      "Epoch 3/5\n",
      "47500/47500 [==============================] - 229s 5ms/step - loss: 0.3771 - acc: 0.8392\n",
      "Epoch 4/5\n",
      "47500/47500 [==============================] - 214s 5ms/step - loss: 0.3530 - acc: 0.8514\n",
      "Epoch 5/5\n",
      "47500/47500 [==============================] - 215s 5ms/step - loss: 0.3595 - acc: 0.8421\n"
     ]
    }
   ],
   "source": [
    "red_neuronal.compile(loss='binary_crossentropy', optimizer='adam', metrics=[\"accuracy\"])\n",
    "startTime = datetime.now()\n",
    "history=red_neuronal.fit(X_train_large, y_large, batch_size=32, epochs=5)\n",
    "time=datetime.now() - startTime"
   ]
  },
  {
   "cell_type": "code",
   "execution_count": 33,
   "metadata": {
    "scrolled": true
   },
   "outputs": [
    {
     "name": "stdout",
     "output_type": "stream",
     "text": [
      "2500/2500 [==============================] - 3s 1ms/step\n",
      "Test loss 0.31786349937915803\n",
      "Test accuracy 0.8612\n",
      "                     testAccuracy  testLoss  trainAccuracy  trainLoss  \\\n",
      "LSTM-1hl                   0.8364  0.364449       0.888133   0.275954   \n",
      "LSTM-1hl-drop              0.8088  0.434761       0.828400   0.392736   \n",
      "LSTM-2hl-drop              0.8040  0.445004       0.842800   0.378978   \n",
      "BRNN-1hl-drop              0.7800  0.469629       0.816933   0.413109   \n",
      "BRNN-2hl-drop              0.8072  0.437879       0.821333   0.405872   \n",
      "large-LSTM-1hl             0.8788  0.279688       0.893916   0.256513   \n",
      "large-LSTM-1hl-drop        0.8612  0.317863       0.842147   0.359524   \n",
      "\n",
      "                          trainTime  \n",
      "LSTM-1hl            00:02:27.162798  \n",
      "LSTM-1hl-drop       00:02:48.225743  \n",
      "LSTM-2hl-drop       00:05:16.154574  \n",
      "BRNN-1hl-drop       00:05:16.401130  \n",
      "BRNN-2hl-drop       00:09:55.164427  \n",
      "large-LSTM-1hl      00:15:27.364819  \n",
      "large-LSTM-1hl-drop 00:18:08.538732  \n"
     ]
    }
   ],
   "source": [
    "validacion=red_neuronal.evaluate(X_test, y_test)\n",
    "print(\"Test loss\", validacion[0])\n",
    "print(\"Test accuracy\", validacion[1])\n",
    "df=df.append(pd.Series({'testLoss': validacion[0], 'testAccuracy': validacion[1], 'trainLoss':history.history['loss'][-1], 'trainAccuracy':history.history['acc'][-1],'trainTime':time},name='large-LSTM-1hl-drop'))\n",
    "print(df)"
   ]
  },
  {
   "cell_type": "markdown",
   "metadata": {},
   "source": [
    "RNN con dos capas del tipo LSTM"
   ]
  },
  {
   "cell_type": "code",
   "execution_count": 34,
   "metadata": {
    "scrolled": true
   },
   "outputs": [
    {
     "name": "stdout",
     "output_type": "stream",
     "text": [
      "_________________________________________________________________\n",
      "Layer (type)                 Output Shape              Param #   \n",
      "=================================================================\n",
      "embedding_8 (Embedding)      (None, 300, 64)           64000     \n",
      "_________________________________________________________________\n",
      "lstm_10 (LSTM)               (None, 300, 32)           12416     \n",
      "_________________________________________________________________\n",
      "lstm_11 (LSTM)               (None, 32)                8320      \n",
      "_________________________________________________________________\n",
      "dense_8 (Dense)              (None, 1)                 33        \n",
      "_________________________________________________________________\n",
      "activation_8 (Activation)    (None, 1)                 0         \n",
      "=================================================================\n",
      "Total params: 84,769\n",
      "Trainable params: 84,769\n",
      "Non-trainable params: 0\n",
      "_________________________________________________________________\n"
     ]
    }
   ],
   "source": [
    "red_neuronal=keras.models.Sequential()\n",
    "red_neuronal.add(keras.layers.embeddings.Embedding(input_dim=max_dic, input_length=max_palabras, output_dim=64))\n",
    "red_neuronal.add(keras.layers.recurrent.LSTM(32,recurrent_dropout=0.3,return_sequences=True))\n",
    "red_neuronal.add(keras.layers.recurrent.LSTM(32,recurrent_dropout=0.3))\n",
    "red_neuronal.add(keras.layers.core.Dense(1))\n",
    "red_neuronal.add(keras.layers.core.Activation('sigmoid'))\n",
    "red_neuronal.summary()"
   ]
  },
  {
   "cell_type": "code",
   "execution_count": 35,
   "metadata": {
    "scrolled": true
   },
   "outputs": [
    {
     "name": "stdout",
     "output_type": "stream",
     "text": [
      "Epoch 1/5\n",
      "47500/47500 [==============================] - 411s 9ms/step - loss: 0.4635 - acc: 0.7834\n",
      "Epoch 2/5\n",
      "47500/47500 [==============================] - 407s 9ms/step - loss: 0.4189 - acc: 0.8129\n",
      "Epoch 3/5\n",
      "47500/47500 [==============================] - 404s 9ms/step - loss: 0.3413 - acc: 0.8585\n",
      "Epoch 4/5\n",
      "47500/47500 [==============================] - 403s 8ms/step - loss: 0.3115 - acc: 0.8728\n",
      "Epoch 5/5\n",
      "47500/47500 [==============================] - 403s 8ms/step - loss: 0.2916 - acc: 0.8815\n"
     ]
    }
   ],
   "source": [
    "red_neuronal.compile(loss='binary_crossentropy', optimizer='adam', metrics=[\"accuracy\"])\n",
    "startTime = datetime.now()\n",
    "history=red_neuronal.fit(X_train_large, y_large, batch_size=32, epochs=5)\n",
    "time=datetime.now() - startTime"
   ]
  },
  {
   "cell_type": "code",
   "execution_count": 36,
   "metadata": {
    "scrolled": false
   },
   "outputs": [
    {
     "name": "stdout",
     "output_type": "stream",
     "text": [
      "2500/2500 [==============================] - 5s 2ms/step\n",
      "Test loss 0.3111357528403401\n",
      "Test accuracy 0.866\n",
      "                     testAccuracy  testLoss  trainAccuracy  trainLoss  \\\n",
      "LSTM-1hl                   0.8364  0.364449       0.888133   0.275954   \n",
      "LSTM-1hl-drop              0.8088  0.434761       0.828400   0.392736   \n",
      "LSTM-2hl-drop              0.8040  0.445004       0.842800   0.378978   \n",
      "BRNN-1hl-drop              0.7800  0.469629       0.816933   0.413109   \n",
      "BRNN-2hl-drop              0.8072  0.437879       0.821333   0.405872   \n",
      "large-LSTM-1hl             0.8788  0.279688       0.893916   0.256513   \n",
      "large-LSTM-1hl-drop        0.8612  0.317863       0.842147   0.359524   \n",
      "large-LSTM-2hl-drop        0.8660  0.311136       0.881474   0.291582   \n",
      "\n",
      "                          trainTime  \n",
      "LSTM-1hl            00:02:27.162798  \n",
      "LSTM-1hl-drop       00:02:48.225743  \n",
      "LSTM-2hl-drop       00:05:16.154574  \n",
      "BRNN-1hl-drop       00:05:16.401130  \n",
      "BRNN-2hl-drop       00:09:55.164427  \n",
      "large-LSTM-1hl      00:15:27.364819  \n",
      "large-LSTM-1hl-drop 00:18:08.538732  \n",
      "large-LSTM-2hl-drop 00:33:51.334061  \n"
     ]
    }
   ],
   "source": [
    "validacion=red_neuronal.evaluate(X_test, y_test)\n",
    "print(\"Test loss\", validacion[0])\n",
    "print(\"Test accuracy\", validacion[1])\n",
    "df=df.append(pd.Series({'testLoss': validacion[0], 'testAccuracy': validacion[1], 'trainLoss':history.history['loss'][-1], 'trainAccuracy':history.history['acc'][-1],'trainTime':time},name='large-LSTM-2hl-drop'))\n",
    "print(df)"
   ]
  },
  {
   "cell_type": "markdown",
   "metadata": {},
   "source": [
    "RNN con 3 capas del tipo LSTM"
   ]
  },
  {
   "cell_type": "code",
   "execution_count": 37,
   "metadata": {},
   "outputs": [
    {
     "name": "stdout",
     "output_type": "stream",
     "text": [
      "_________________________________________________________________\n",
      "Layer (type)                 Output Shape              Param #   \n",
      "=================================================================\n",
      "embedding_9 (Embedding)      (None, 300, 64)           64000     \n",
      "_________________________________________________________________\n",
      "lstm_12 (LSTM)               (None, 300, 32)           12416     \n",
      "_________________________________________________________________\n",
      "lstm_13 (LSTM)               (None, 300, 32)           8320      \n",
      "_________________________________________________________________\n",
      "lstm_14 (LSTM)               (None, 32)                8320      \n",
      "_________________________________________________________________\n",
      "dense_9 (Dense)              (None, 1)                 33        \n",
      "_________________________________________________________________\n",
      "activation_9 (Activation)    (None, 1)                 0         \n",
      "=================================================================\n",
      "Total params: 93,089\n",
      "Trainable params: 93,089\n",
      "Non-trainable params: 0\n",
      "_________________________________________________________________\n"
     ]
    }
   ],
   "source": [
    "red_neuronal=keras.models.Sequential()\n",
    "red_neuronal.add(keras.layers.embeddings.Embedding(input_dim=max_dic, input_length=max_palabras, output_dim=64))\n",
    "red_neuronal.add(keras.layers.recurrent.LSTM(32,recurrent_dropout=0.3,return_sequences=True))\n",
    "red_neuronal.add(keras.layers.recurrent.LSTM(32,recurrent_dropout=0.3,return_sequences=True))\n",
    "red_neuronal.add(keras.layers.recurrent.LSTM(32,recurrent_dropout=0.3))\n",
    "red_neuronal.add(keras.layers.core.Dense(1))\n",
    "red_neuronal.add(keras.layers.core.Activation('sigmoid'))\n",
    "red_neuronal.summary()"
   ]
  },
  {
   "cell_type": "code",
   "execution_count": 38,
   "metadata": {},
   "outputs": [
    {
     "name": "stdout",
     "output_type": "stream",
     "text": [
      "Epoch 1/5\n",
      "47500/47500 [==============================] - 578s 12ms/step - loss: 0.4619 - acc: 0.7849\n",
      "Epoch 2/5\n",
      "47500/47500 [==============================] - 583s 12ms/step - loss: 0.3848 - acc: 0.8337\n",
      "Epoch 3/5\n",
      "47500/47500 [==============================] - 575s 12ms/step - loss: 0.3820 - acc: 0.8357\n",
      "Epoch 4/5\n",
      "47500/47500 [==============================] - 584s 12ms/step - loss: 0.3332 - acc: 0.8586\n",
      "Epoch 5/5\n",
      "47500/47500 [==============================] - 581s 12ms/step - loss: 0.3172 - acc: 0.8677\n"
     ]
    }
   ],
   "source": [
    "red_neuronal.compile(loss='binary_crossentropy', optimizer='adam', metrics=[\"accuracy\"])\n",
    "startTime = datetime.now()\n",
    "history=red_neuronal.fit(X_train_large, y_large, batch_size=32, epochs=5)\n",
    "time=datetime.now() - startTime"
   ]
  },
  {
   "cell_type": "code",
   "execution_count": 39,
   "metadata": {
    "scrolled": true
   },
   "outputs": [
    {
     "name": "stdout",
     "output_type": "stream",
     "text": [
      "2500/2500 [==============================] - 7s 3ms/step\n",
      "Test loss 0.3320368373632431\n",
      "Test accuracy 0.8516\n",
      "                     testAccuracy  testLoss  trainAccuracy  trainLoss  \\\n",
      "LSTM-1hl                   0.8364  0.364449       0.888133   0.275954   \n",
      "LSTM-1hl-drop              0.8088  0.434761       0.828400   0.392736   \n",
      "LSTM-2hl-drop              0.8040  0.445004       0.842800   0.378978   \n",
      "BRNN-1hl-drop              0.7800  0.469629       0.816933   0.413109   \n",
      "BRNN-2hl-drop              0.8072  0.437879       0.821333   0.405872   \n",
      "large-LSTM-1hl             0.8788  0.279688       0.893916   0.256513   \n",
      "large-LSTM-1hl-drop        0.8612  0.317863       0.842147   0.359524   \n",
      "large-LSTM-2hl-drop        0.8660  0.311136       0.881474   0.291582   \n",
      "large-LSTM-3hl-drop        0.8516  0.332037       0.867684   0.317230   \n",
      "\n",
      "                          trainTime  \n",
      "LSTM-1hl            00:02:27.162798  \n",
      "LSTM-1hl-drop       00:02:48.225743  \n",
      "LSTM-2hl-drop       00:05:16.154574  \n",
      "BRNN-1hl-drop       00:05:16.401130  \n",
      "BRNN-2hl-drop       00:09:55.164427  \n",
      "large-LSTM-1hl      00:15:27.364819  \n",
      "large-LSTM-1hl-drop 00:18:08.538732  \n",
      "large-LSTM-2hl-drop 00:33:51.334061  \n",
      "large-LSTM-3hl-drop 00:48:23.795770  \n"
     ]
    }
   ],
   "source": [
    "validacion=red_neuronal.evaluate(X_test, y_test)\n",
    "print(\"Test loss\", validacion[0])\n",
    "print(\"Test accuracy\", validacion[1])\n",
    "df=df.append(pd.Series({'testLoss': validacion[0], 'testAccuracy': validacion[1], 'trainLoss':history.history['loss'][-1], 'trainAccuracy':history.history['acc'][-1],'trainTime':time},name='large-LSTM-3hl-drop'))\n",
    "print(df)"
   ]
  },
  {
   "cell_type": "markdown",
   "metadata": {},
   "source": [
    "BRNN"
   ]
  },
  {
   "cell_type": "code",
   "execution_count": 40,
   "metadata": {},
   "outputs": [
    {
     "name": "stdout",
     "output_type": "stream",
     "text": [
      "_________________________________________________________________\n",
      "Layer (type)                 Output Shape              Param #   \n",
      "=================================================================\n",
      "embedding_10 (Embedding)     (None, 300, 64)           64000     \n",
      "_________________________________________________________________\n",
      "bidirectional_4 (Bidirection (None, 64)                24832     \n",
      "_________________________________________________________________\n",
      "dense_10 (Dense)             (None, 1)                 65        \n",
      "_________________________________________________________________\n",
      "activation_10 (Activation)   (None, 1)                 0         \n",
      "=================================================================\n",
      "Total params: 88,897\n",
      "Trainable params: 88,897\n",
      "Non-trainable params: 0\n",
      "_________________________________________________________________\n"
     ]
    }
   ],
   "source": [
    "red_neuronal=keras.models.Sequential()\n",
    "red_neuronal.add(keras.layers.embeddings.Embedding(input_dim=max_dic, input_length=max_palabras, output_dim=64))\n",
    "red_neuronal.add(keras.layers.Bidirectional(keras.layers.recurrent.LSTM(32,recurrent_dropout=0.3)))\n",
    "red_neuronal.add(keras.layers.core.Dense(1))\n",
    "red_neuronal.add(keras.layers.core.Activation('sigmoid'))\n",
    "red_neuronal.summary()"
   ]
  },
  {
   "cell_type": "code",
   "execution_count": 41,
   "metadata": {},
   "outputs": [
    {
     "name": "stdout",
     "output_type": "stream",
     "text": [
      "Epoch 1/5\n",
      "47500/47500 [==============================] - 410s 9ms/step - loss: 0.4877 - acc: 0.7696\n",
      "Epoch 2/5\n",
      "47500/47500 [==============================] - 410s 9ms/step - loss: 0.4475 - acc: 0.7928\n",
      "Epoch 3/5\n",
      "47500/47500 [==============================] - 406s 9ms/step - loss: 0.3841 - acc: 0.8312\n",
      "Epoch 4/5\n",
      "47500/47500 [==============================] - 404s 9ms/step - loss: 0.3536 - acc: 0.8478\n",
      "Epoch 5/5\n",
      "47500/47500 [==============================] - 416s 9ms/step - loss: 0.3797 - acc: 0.8330\n"
     ]
    }
   ],
   "source": [
    "red_neuronal.compile(loss='binary_crossentropy', optimizer='adam', metrics=[\"accuracy\"])\n",
    "startTime = datetime.now()\n",
    "history=red_neuronal.fit(X_train_large, y_large, batch_size=32, epochs=5)\n",
    "time=datetime.now() - startTime"
   ]
  },
  {
   "cell_type": "code",
   "execution_count": 42,
   "metadata": {},
   "outputs": [
    {
     "name": "stdout",
     "output_type": "stream",
     "text": [
      "2500/2500 [==============================] - 5s 2ms/step\n",
      "Test loss 0.38096462206840515\n",
      "Test accuracy 0.8308\n",
      "                     testAccuracy  testLoss  trainAccuracy  trainLoss  \\\n",
      "LSTM-1hl                   0.8364  0.364449       0.888133   0.275954   \n",
      "LSTM-1hl-drop              0.8088  0.434761       0.828400   0.392736   \n",
      "LSTM-2hl-drop              0.8040  0.445004       0.842800   0.378978   \n",
      "BRNN-1hl-drop              0.7800  0.469629       0.816933   0.413109   \n",
      "BRNN-2hl-drop              0.8072  0.437879       0.821333   0.405872   \n",
      "large-LSTM-1hl             0.8788  0.279688       0.893916   0.256513   \n",
      "large-LSTM-1hl-drop        0.8612  0.317863       0.842147   0.359524   \n",
      "large-LSTM-2hl-drop        0.8660  0.311136       0.881474   0.291582   \n",
      "large-LSTM-3hl-drop        0.8516  0.332037       0.867684   0.317230   \n",
      "large-BRNN-1hl-drop        0.8308  0.380965       0.833011   0.379739   \n",
      "\n",
      "                          trainTime  \n",
      "LSTM-1hl            00:02:27.162798  \n",
      "LSTM-1hl-drop       00:02:48.225743  \n",
      "LSTM-2hl-drop       00:05:16.154574  \n",
      "BRNN-1hl-drop       00:05:16.401130  \n",
      "BRNN-2hl-drop       00:09:55.164427  \n",
      "large-LSTM-1hl      00:15:27.364819  \n",
      "large-LSTM-1hl-drop 00:18:08.538732  \n",
      "large-LSTM-2hl-drop 00:33:51.334061  \n",
      "large-LSTM-3hl-drop 00:48:23.795770  \n",
      "large-BRNN-1hl-drop 00:34:07.770787  \n"
     ]
    }
   ],
   "source": [
    "validacion=red_neuronal.evaluate(X_test, y_test)\n",
    "print(\"Test loss\", validacion[0])\n",
    "print(\"Test accuracy\", validacion[1])\n",
    "df=df.append(pd.Series({'testLoss': validacion[0], 'testAccuracy': validacion[1], 'trainLoss':history.history['loss'][-1], 'trainAccuracy':history.history['acc'][-1],'trainTime':time},name='large-BRNN-1hl-drop'))\n",
    "print(df)"
   ]
  },
  {
   "cell_type": "markdown",
   "metadata": {},
   "source": [
    "BRNN dos layers"
   ]
  },
  {
   "cell_type": "code",
   "execution_count": 43,
   "metadata": {},
   "outputs": [
    {
     "name": "stdout",
     "output_type": "stream",
     "text": [
      "_________________________________________________________________\n",
      "Layer (type)                 Output Shape              Param #   \n",
      "=================================================================\n",
      "embedding_11 (Embedding)     (None, 300, 64)           64000     \n",
      "_________________________________________________________________\n",
      "bidirectional_5 (Bidirection (None, 300, 64)           24832     \n",
      "_________________________________________________________________\n",
      "bidirectional_6 (Bidirection (None, 64)                24832     \n",
      "_________________________________________________________________\n",
      "dense_11 (Dense)             (None, 1)                 65        \n",
      "_________________________________________________________________\n",
      "activation_11 (Activation)   (None, 1)                 0         \n",
      "=================================================================\n",
      "Total params: 113,729\n",
      "Trainable params: 113,729\n",
      "Non-trainable params: 0\n",
      "_________________________________________________________________\n"
     ]
    }
   ],
   "source": [
    "red_neuronal=keras.models.Sequential()\n",
    "red_neuronal.add(keras.layers.embeddings.Embedding(input_dim=max_dic, input_length=max_palabras, output_dim=64))\n",
    "red_neuronal.add(keras.layers.Bidirectional(keras.layers.recurrent.LSTM(32,recurrent_dropout=0.3,return_sequences=True)))\n",
    "red_neuronal.add(keras.layers.Bidirectional(keras.layers.recurrent.LSTM(32,recurrent_dropout=0.3)))\n",
    "red_neuronal.add(keras.layers.core.Dense(1))\n",
    "red_neuronal.add(keras.layers.core.Activation('sigmoid'))\n",
    "red_neuronal.summary()"
   ]
  },
  {
   "cell_type": "code",
   "execution_count": 44,
   "metadata": {},
   "outputs": [
    {
     "name": "stdout",
     "output_type": "stream",
     "text": [
      "Epoch 1/5\n",
      "47500/47500 [==============================] - 761s 16ms/step - loss: 0.4838 - acc: 0.7706\n",
      "Epoch 2/5\n",
      "47500/47500 [==============================] - 772s 16ms/step - loss: 0.4294 - acc: 0.8075\n",
      "Epoch 3/5\n",
      "47500/47500 [==============================] - 806s 17ms/step - loss: 0.3996 - acc: 0.8248\n",
      "Epoch 4/5\n",
      "47500/47500 [==============================] - 759s 16ms/step - loss: 0.3383 - acc: 0.8588\n",
      "Epoch 5/5\n",
      "47500/47500 [==============================] - 707s 15ms/step - loss: 0.3019 - acc: 0.8737\n"
     ]
    }
   ],
   "source": [
    "red_neuronal.compile(loss='binary_crossentropy', optimizer='adam', metrics=[\"accuracy\"])\n",
    "startTime = datetime.now()\n",
    "history=red_neuronal.fit(X_train_large, y_large, batch_size=32, epochs=5)\n",
    "time=datetime.now() - startTime"
   ]
  },
  {
   "cell_type": "code",
   "execution_count": 45,
   "metadata": {
    "scrolled": true
   },
   "outputs": [
    {
     "name": "stdout",
     "output_type": "stream",
     "text": [
      "2500/2500 [==============================] - 10s 4ms/step\n",
      "Test loss 0.2969142947256565\n",
      "Test accuracy 0.862\n",
      "                     testAccuracy  testLoss  trainAccuracy  trainLoss  \\\n",
      "LSTM-1hl                   0.8364  0.364449       0.888133   0.275954   \n",
      "LSTM-1hl-drop              0.8088  0.434761       0.828400   0.392736   \n",
      "LSTM-2hl-drop              0.8040  0.445004       0.842800   0.378978   \n",
      "BRNN-1hl-drop              0.7800  0.469629       0.816933   0.413109   \n",
      "BRNN-2hl-drop              0.8072  0.437879       0.821333   0.405872   \n",
      "large-LSTM-1hl             0.8788  0.279688       0.893916   0.256513   \n",
      "large-LSTM-1hl-drop        0.8612  0.317863       0.842147   0.359524   \n",
      "large-LSTM-2hl-drop        0.8660  0.311136       0.881474   0.291582   \n",
      "large-LSTM-3hl-drop        0.8516  0.332037       0.867684   0.317230   \n",
      "large-BRNN-1hl-drop        0.8308  0.380965       0.833011   0.379739   \n",
      "large-BRNN-2hl-drop        0.8620  0.296914       0.873684   0.301939   \n",
      "\n",
      "                          trainTime  \n",
      "LSTM-1hl            00:02:27.162798  \n",
      "LSTM-1hl-drop       00:02:48.225743  \n",
      "LSTM-2hl-drop       00:05:16.154574  \n",
      "BRNN-1hl-drop       00:05:16.401130  \n",
      "BRNN-2hl-drop       00:09:55.164427  \n",
      "large-LSTM-1hl      00:15:27.364819  \n",
      "large-LSTM-1hl-drop 00:18:08.538732  \n",
      "large-LSTM-2hl-drop 00:33:51.334061  \n",
      "large-LSTM-3hl-drop 00:48:23.795770  \n",
      "large-BRNN-1hl-drop 00:34:07.770787  \n",
      "large-BRNN-2hl-drop 01:03:30.378286  \n"
     ]
    }
   ],
   "source": [
    "validacion=red_neuronal.evaluate(X_test, y_test)\n",
    "print(\"Test loss\", validacion[0])\n",
    "print(\"Test accuracy\", validacion[1])\n",
    "df=df.append(pd.Series({'testLoss': validacion[0], 'testAccuracy': validacion[1], 'trainLoss':history.history['loss'][-1], 'trainAccuracy':history.history['acc'][-1],'trainTime':time},name='large-BRNN-2hl-drop'))\n",
    "print(df)"
   ]
  },
  {
   "cell_type": "markdown",
   "metadata": {},
   "source": [
    "Mismos modelos sin dropout"
   ]
  },
  {
   "cell_type": "code",
   "execution_count": 46,
   "metadata": {},
   "outputs": [
    {
     "name": "stdout",
     "output_type": "stream",
     "text": [
      "_________________________________________________________________\n",
      "Layer (type)                 Output Shape              Param #   \n",
      "=================================================================\n",
      "embedding_12 (Embedding)     (None, 300, 64)           64000     \n",
      "_________________________________________________________________\n",
      "bidirectional_7 (Bidirection (None, 300, 64)           24832     \n",
      "_________________________________________________________________\n",
      "bidirectional_8 (Bidirection (None, 64)                24832     \n",
      "_________________________________________________________________\n",
      "dense_12 (Dense)             (None, 1)                 65        \n",
      "_________________________________________________________________\n",
      "activation_12 (Activation)   (None, 1)                 0         \n",
      "=================================================================\n",
      "Total params: 113,729\n",
      "Trainable params: 113,729\n",
      "Non-trainable params: 0\n",
      "_________________________________________________________________\n"
     ]
    }
   ],
   "source": [
    "red_neuronal=keras.models.Sequential()\n",
    "red_neuronal.add(keras.layers.embeddings.Embedding(input_dim=max_dic, input_length=max_palabras, output_dim=64))\n",
    "red_neuronal.add(keras.layers.Bidirectional(keras.layers.recurrent.LSTM(32,return_sequences=True)))\n",
    "red_neuronal.add(keras.layers.Bidirectional(keras.layers.recurrent.LSTM(32)))\n",
    "red_neuronal.add(keras.layers.core.Dense(1))\n",
    "red_neuronal.add(keras.layers.core.Activation('sigmoid'))\n",
    "red_neuronal.summary()"
   ]
  },
  {
   "cell_type": "code",
   "execution_count": 47,
   "metadata": {},
   "outputs": [
    {
     "name": "stdout",
     "output_type": "stream",
     "text": [
      "Epoch 1/5\n",
      "47500/47500 [==============================] - 692s 15ms/step - loss: 0.3927 - acc: 0.8231\n",
      "Epoch 2/5\n",
      "47500/47500 [==============================] - 691s 15ms/step - loss: 0.3127 - acc: 0.8704\n",
      "Epoch 3/5\n",
      "47500/47500 [==============================] - 718s 15ms/step - loss: 0.3049 - acc: 0.8727\n",
      "Epoch 4/5\n",
      "47500/47500 [==============================] - 727s 15ms/step - loss: 0.2796 - acc: 0.8843\n",
      "Epoch 5/5\n",
      "47500/47500 [==============================] - 784s 17ms/step - loss: 0.2611 - acc: 0.8948\n"
     ]
    }
   ],
   "source": [
    "red_neuronal.compile(loss='binary_crossentropy', optimizer='adam', metrics=[\"accuracy\"])\n",
    "startTime = datetime.now()\n",
    "history=red_neuronal.fit(X_train_large, y_large, batch_size=32, epochs=5)\n",
    "time=datetime.now() - startTime"
   ]
  },
  {
   "cell_type": "code",
   "execution_count": 48,
   "metadata": {},
   "outputs": [
    {
     "name": "stdout",
     "output_type": "stream",
     "text": [
      "2500/2500 [==============================] - 9s 4ms/step\n",
      "Test loss 0.2757462933629751\n",
      "Test accuracy 0.8832\n",
      "                     testAccuracy  testLoss  trainAccuracy  trainLoss  \\\n",
      "LSTM-1hl                   0.8364  0.364449       0.888133   0.275954   \n",
      "LSTM-1hl-drop              0.8088  0.434761       0.828400   0.392736   \n",
      "LSTM-2hl-drop              0.8040  0.445004       0.842800   0.378978   \n",
      "BRNN-1hl-drop              0.7800  0.469629       0.816933   0.413109   \n",
      "BRNN-2hl-drop              0.8072  0.437879       0.821333   0.405872   \n",
      "large-LSTM-1hl             0.8788  0.279688       0.893916   0.256513   \n",
      "large-LSTM-1hl-drop        0.8612  0.317863       0.842147   0.359524   \n",
      "large-LSTM-2hl-drop        0.8660  0.311136       0.881474   0.291582   \n",
      "large-LSTM-3hl-drop        0.8516  0.332037       0.867684   0.317230   \n",
      "large-BRNN-1hl-drop        0.8308  0.380965       0.833011   0.379739   \n",
      "large-BRNN-2hl-drop        0.8620  0.296914       0.873684   0.301939   \n",
      "large-BRNN-2hl             0.8832  0.275746       0.894842   0.261085   \n",
      "\n",
      "                          trainTime  \n",
      "LSTM-1hl            00:02:27.162798  \n",
      "LSTM-1hl-drop       00:02:48.225743  \n",
      "LSTM-2hl-drop       00:05:16.154574  \n",
      "BRNN-1hl-drop       00:05:16.401130  \n",
      "BRNN-2hl-drop       00:09:55.164427  \n",
      "large-LSTM-1hl      00:15:27.364819  \n",
      "large-LSTM-1hl-drop 00:18:08.538732  \n",
      "large-LSTM-2hl-drop 00:33:51.334061  \n",
      "large-LSTM-3hl-drop 00:48:23.795770  \n",
      "large-BRNN-1hl-drop 00:34:07.770787  \n",
      "large-BRNN-2hl-drop 01:03:30.378286  \n",
      "large-BRNN-2hl      01:00:16.108091  \n"
     ]
    }
   ],
   "source": [
    "validacion=red_neuronal.evaluate(X_test, y_test)\n",
    "print(\"Test loss\", validacion[0])\n",
    "print(\"Test accuracy\", validacion[1])\n",
    "df=df.append(pd.Series({'testLoss': validacion[0], 'testAccuracy': validacion[1], 'trainLoss':history.history['loss'][-1], 'trainAccuracy':history.history['acc'][-1],'trainTime':time},name='large-BRNN-2hl'))\n",
    "print(df)"
   ]
  },
  {
   "cell_type": "code",
   "execution_count": 62,
   "metadata": {},
   "outputs": [
    {
     "name": "stdout",
     "output_type": "stream",
     "text": [
      "_________________________________________________________________\n",
      "Layer (type)                 Output Shape              Param #   \n",
      "=================================================================\n",
      "embedding_15 (Embedding)     (None, 300, 64)           64000     \n",
      "_________________________________________________________________\n",
      "bidirectional_11 (Bidirectio (None, 64)                24832     \n",
      "_________________________________________________________________\n",
      "dense_15 (Dense)             (None, 1)                 65        \n",
      "_________________________________________________________________\n",
      "activation_15 (Activation)   (None, 1)                 0         \n",
      "=================================================================\n",
      "Total params: 88,897\n",
      "Trainable params: 88,897\n",
      "Non-trainable params: 0\n",
      "_________________________________________________________________\n"
     ]
    }
   ],
   "source": [
    "red_neuronal=keras.models.Sequential()\n",
    "red_neuronal.add(keras.layers.embeddings.Embedding(input_dim=max_dic, input_length=max_palabras, output_dim=64))\n",
    "red_neuronal.add(keras.layers.Bidirectional(keras.layers.recurrent.LSTM(32)))\n",
    "red_neuronal.add(keras.layers.core.Dense(1))\n",
    "red_neuronal.add(keras.layers.core.Activation('sigmoid'))\n",
    "red_neuronal.summary()"
   ]
  },
  {
   "cell_type": "code",
   "execution_count": 63,
   "metadata": {},
   "outputs": [
    {
     "name": "stdout",
     "output_type": "stream",
     "text": [
      "Epoch 1/5\n",
      "47500/47500 [==============================] - 364s 8ms/step - loss: 0.3966 - acc: 0.8195\n",
      "Epoch 2/5\n",
      "47500/47500 [==============================] - 357s 8ms/step - loss: 0.3206 - acc: 0.8651\n",
      "Epoch 3/5\n",
      "47500/47500 [==============================] - 361s 8ms/step - loss: 0.2983 - acc: 0.8756\n",
      "Epoch 4/5\n",
      "47500/47500 [==============================] - 360s 8ms/step - loss: 0.2849 - acc: 0.8826\n",
      "Epoch 5/5\n",
      "47500/47500 [==============================] - 359s 8ms/step - loss: 0.2599 - acc: 0.8923\n"
     ]
    }
   ],
   "source": [
    "red_neuronal.compile(loss='binary_crossentropy', optimizer='adam', metrics=[\"accuracy\"])\n",
    "startTime = datetime.now()\n",
    "history=red_neuronal.fit(X_train_large, y_large, batch_size=32, epochs=5)\n",
    "time=datetime.now() - startTime"
   ]
  },
  {
   "cell_type": "code",
   "execution_count": 64,
   "metadata": {},
   "outputs": [
    {
     "name": "stdout",
     "output_type": "stream",
     "text": [
      "2500/2500 [==============================] - 5s 2ms/step\n",
      "Test loss 0.33331746572852133\n",
      "Test accuracy 0.8516\n",
      "                     testAccuracy  testLoss  trainAccuracy  trainLoss  \\\n",
      "LSTM-1hl                   0.8364  0.364449       0.888133   0.275954   \n",
      "LSTM-1hl-drop              0.8088  0.434761       0.828400   0.392736   \n",
      "LSTM-2hl-drop              0.8040  0.445004       0.842800   0.378978   \n",
      "BRNN-1hl-drop              0.7800  0.469629       0.816933   0.413109   \n",
      "BRNN-2hl-drop              0.8072  0.437879       0.821333   0.405872   \n",
      "large-LSTM-1hl             0.8788  0.279688       0.893916   0.256513   \n",
      "large-LSTM-1hl-drop        0.8612  0.317863       0.842147   0.359524   \n",
      "large-LSTM-2hl-drop        0.8660  0.311136       0.881474   0.291582   \n",
      "large-LSTM-3hl-drop        0.8516  0.332037       0.867684   0.317230   \n",
      "large-BRNN-1hl-drop        0.8308  0.380965       0.833011   0.379739   \n",
      "large-BRNN-2hl-drop        0.8620  0.296914       0.873684   0.301939   \n",
      "large-BRNN-2hl             0.8832  0.275746       0.894842   0.261085   \n",
      "large-BRNN-1hl             0.8516  0.333317       0.892295   0.259894   \n",
      "\n",
      "                          trainTime  \n",
      "LSTM-1hl            00:02:27.162798  \n",
      "LSTM-1hl-drop       00:02:48.225743  \n",
      "LSTM-2hl-drop       00:05:16.154574  \n",
      "BRNN-1hl-drop       00:05:16.401130  \n",
      "BRNN-2hl-drop       00:09:55.164427  \n",
      "large-LSTM-1hl      00:15:27.364819  \n",
      "large-LSTM-1hl-drop 00:18:08.538732  \n",
      "large-LSTM-2hl-drop 00:33:51.334061  \n",
      "large-LSTM-3hl-drop 00:48:23.795770  \n",
      "large-BRNN-1hl-drop 00:34:07.770787  \n",
      "large-BRNN-2hl-drop 01:03:30.378286  \n",
      "large-BRNN-2hl      01:00:16.108091  \n",
      "large-BRNN-1hl      00:30:03.325117  \n"
     ]
    }
   ],
   "source": [
    "validacion=red_neuronal.evaluate(X_test, y_test)\n",
    "print(\"Test loss\", validacion[0])\n",
    "print(\"Test accuracy\", validacion[1])\n",
    "df=df.append(pd.Series({'testLoss': validacion[0], 'testAccuracy': validacion[1], 'trainLoss':history.history['loss'][-1], 'trainAccuracy':history.history['acc'][-1],'trainTime':time},name='large-BRNN-1hl'))\n",
    "print(df)"
   ]
  },
  {
   "cell_type": "code",
   "execution_count": 65,
   "metadata": {},
   "outputs": [
    {
     "name": "stdout",
     "output_type": "stream",
     "text": [
      "_________________________________________________________________\n",
      "Layer (type)                 Output Shape              Param #   \n",
      "=================================================================\n",
      "embedding_16 (Embedding)     (None, 300, 64)           64000     \n",
      "_________________________________________________________________\n",
      "lstm_23 (LSTM)               (None, 300, 32)           12416     \n",
      "_________________________________________________________________\n",
      "lstm_24 (LSTM)               (None, 32)                8320      \n",
      "_________________________________________________________________\n",
      "dense_16 (Dense)             (None, 1)                 33        \n",
      "_________________________________________________________________\n",
      "activation_16 (Activation)   (None, 1)                 0         \n",
      "=================================================================\n",
      "Total params: 84,769\n",
      "Trainable params: 84,769\n",
      "Non-trainable params: 0\n",
      "_________________________________________________________________\n"
     ]
    }
   ],
   "source": [
    "red_neuronal=keras.models.Sequential()\n",
    "red_neuronal.add(keras.layers.embeddings.Embedding(input_dim=max_dic, input_length=max_palabras, output_dim=64))\n",
    "red_neuronal.add(keras.layers.recurrent.LSTM(32,return_sequences=True))\n",
    "red_neuronal.add(keras.layers.recurrent.LSTM(32))\n",
    "red_neuronal.add(keras.layers.core.Dense(1))\n",
    "red_neuronal.add(keras.layers.core.Activation('sigmoid'))\n",
    "red_neuronal.summary()"
   ]
  },
  {
   "cell_type": "code",
   "execution_count": 66,
   "metadata": {},
   "outputs": [
    {
     "name": "stdout",
     "output_type": "stream",
     "text": [
      "Epoch 1/5\n",
      "47500/47500 [==============================] - 348s 7ms/step - loss: 0.3771 - acc: 0.8315\n",
      "Epoch 2/5\n",
      "47500/47500 [==============================] - 345s 7ms/step - loss: 0.3173 - acc: 0.8650\n",
      "Epoch 3/5\n",
      "47500/47500 [==============================] - 344s 7ms/step - loss: 0.2912 - acc: 0.8798\n",
      "Epoch 4/5\n",
      "47500/47500 [==============================] - 342s 7ms/step - loss: 0.2717 - acc: 0.8895\n",
      "Epoch 5/5\n",
      "47500/47500 [==============================] - 351s 7ms/step - loss: 0.2584 - acc: 0.8953\n"
     ]
    }
   ],
   "source": [
    "red_neuronal.compile(loss='binary_crossentropy', optimizer='adam', metrics=[\"accuracy\"])\n",
    "startTime = datetime.now()\n",
    "history=red_neuronal.fit(X_train_large, y_large, batch_size=32, epochs=5)\n",
    "time=datetime.now() - startTime"
   ]
  },
  {
   "cell_type": "code",
   "execution_count": 67,
   "metadata": {},
   "outputs": [
    {
     "name": "stdout",
     "output_type": "stream",
     "text": [
      "2500/2500 [==============================] - 5s 2ms/step\n",
      "Test loss 0.28577697660923\n",
      "Test accuracy 0.8808\n",
      "                     testAccuracy  testLoss  trainAccuracy  trainLoss  \\\n",
      "LSTM-1hl                   0.8364  0.364449       0.888133   0.275954   \n",
      "LSTM-1hl-drop              0.8088  0.434761       0.828400   0.392736   \n",
      "LSTM-2hl-drop              0.8040  0.445004       0.842800   0.378978   \n",
      "BRNN-1hl-drop              0.7800  0.469629       0.816933   0.413109   \n",
      "BRNN-2hl-drop              0.8072  0.437879       0.821333   0.405872   \n",
      "large-LSTM-1hl             0.8788  0.279688       0.893916   0.256513   \n",
      "large-LSTM-1hl-drop        0.8612  0.317863       0.842147   0.359524   \n",
      "large-LSTM-2hl-drop        0.8660  0.311136       0.881474   0.291582   \n",
      "large-LSTM-3hl-drop        0.8516  0.332037       0.867684   0.317230   \n",
      "large-BRNN-1hl-drop        0.8308  0.380965       0.833011   0.379739   \n",
      "large-BRNN-2hl-drop        0.8620  0.296914       0.873684   0.301939   \n",
      "large-BRNN-2hl             0.8832  0.275746       0.894842   0.261085   \n",
      "large-BRNN-1hl             0.8516  0.333317       0.892295   0.259894   \n",
      "large-LSTM-2hl             0.8808  0.285777       0.895263   0.258402   \n",
      "\n",
      "                          trainTime  \n",
      "LSTM-1hl            00:02:27.162798  \n",
      "LSTM-1hl-drop       00:02:48.225743  \n",
      "LSTM-2hl-drop       00:05:16.154574  \n",
      "BRNN-1hl-drop       00:05:16.401130  \n",
      "BRNN-2hl-drop       00:09:55.164427  \n",
      "large-LSTM-1hl      00:15:27.364819  \n",
      "large-LSTM-1hl-drop 00:18:08.538732  \n",
      "large-LSTM-2hl-drop 00:33:51.334061  \n",
      "large-LSTM-3hl-drop 00:48:23.795770  \n",
      "large-BRNN-1hl-drop 00:34:07.770787  \n",
      "large-BRNN-2hl-drop 01:03:30.378286  \n",
      "large-BRNN-2hl      01:00:16.108091  \n",
      "large-BRNN-1hl      00:30:03.325117  \n",
      "large-LSTM-2hl      00:28:53.199552  \n"
     ]
    }
   ],
   "source": [
    "validacion=red_neuronal.evaluate(X_test, y_test)\n",
    "print(\"Test loss\", validacion[0])\n",
    "print(\"Test accuracy\", validacion[1])\n",
    "df=df.append(pd.Series({'testLoss': validacion[0], 'testAccuracy': validacion[1], 'trainLoss':history.history['loss'][-1], 'trainAccuracy':history.history['acc'][-1],'trainTime':time},name='large-LSTM-2hl'))\n",
    "print(df)"
   ]
  },
  {
   "cell_type": "code",
   "execution_count": 68,
   "metadata": {},
   "outputs": [
    {
     "name": "stdout",
     "output_type": "stream",
     "text": [
      "_________________________________________________________________\n",
      "Layer (type)                 Output Shape              Param #   \n",
      "=================================================================\n",
      "embedding_17 (Embedding)     (None, 300, 64)           64000     \n",
      "_________________________________________________________________\n",
      "lstm_25 (LSTM)               (None, 300, 32)           12416     \n",
      "_________________________________________________________________\n",
      "lstm_26 (LSTM)               (None, 300, 32)           8320      \n",
      "_________________________________________________________________\n",
      "lstm_27 (LSTM)               (None, 32)                8320      \n",
      "_________________________________________________________________\n",
      "dense_17 (Dense)             (None, 1)                 33        \n",
      "_________________________________________________________________\n",
      "activation_17 (Activation)   (None, 1)                 0         \n",
      "=================================================================\n",
      "Total params: 93,089\n",
      "Trainable params: 93,089\n",
      "Non-trainable params: 0\n",
      "_________________________________________________________________\n"
     ]
    }
   ],
   "source": [
    "red_neuronal=keras.models.Sequential()\n",
    "red_neuronal.add(keras.layers.embeddings.Embedding(input_dim=max_dic, input_length=max_palabras, output_dim=64))\n",
    "red_neuronal.add(keras.layers.recurrent.LSTM(32,return_sequences=True))\n",
    "red_neuronal.add(keras.layers.recurrent.LSTM(32,return_sequences=True))\n",
    "red_neuronal.add(keras.layers.recurrent.LSTM(32))\n",
    "red_neuronal.add(keras.layers.core.Dense(1))\n",
    "red_neuronal.add(keras.layers.core.Activation('sigmoid'))\n",
    "red_neuronal.summary()"
   ]
  },
  {
   "cell_type": "code",
   "execution_count": 69,
   "metadata": {},
   "outputs": [
    {
     "name": "stdout",
     "output_type": "stream",
     "text": [
      "Epoch 1/5\n",
      "47500/47500 [==============================] - 527s 11ms/step - loss: 0.3859 - acc: 0.8268\n",
      "Epoch 2/5\n",
      "47500/47500 [==============================] - 513s 11ms/step - loss: 0.3143 - acc: 0.8674\n",
      "Epoch 3/5\n",
      "47500/47500 [==============================] - 505s 11ms/step - loss: 0.2981 - acc: 0.8756\n",
      "Epoch 4/5\n",
      "47500/47500 [==============================] - 510s 11ms/step - loss: 0.2760 - acc: 0.8874\n",
      "Epoch 5/5\n",
      "47500/47500 [==============================] - 510s 11ms/step - loss: 0.2682 - acc: 0.8913\n"
     ]
    }
   ],
   "source": [
    "red_neuronal.compile(loss='binary_crossentropy', optimizer='adam', metrics=[\"accuracy\"])\n",
    "startTime = datetime.now()\n",
    "history=red_neuronal.fit(X_train_large, y_large, batch_size=32, epochs=5)\n",
    "time=datetime.now() - startTime"
   ]
  },
  {
   "cell_type": "code",
   "execution_count": 70,
   "metadata": {},
   "outputs": [
    {
     "name": "stdout",
     "output_type": "stream",
     "text": [
      "2500/2500 [==============================] - 7s 3ms/step\n",
      "Test loss 0.46700787591934206\n",
      "Test accuracy 0.764\n",
      "                     testAccuracy  testLoss  trainAccuracy  trainLoss  \\\n",
      "LSTM-1hl                   0.8364  0.364449       0.888133   0.275954   \n",
      "LSTM-1hl-drop              0.8088  0.434761       0.828400   0.392736   \n",
      "LSTM-2hl-drop              0.8040  0.445004       0.842800   0.378978   \n",
      "BRNN-1hl-drop              0.7800  0.469629       0.816933   0.413109   \n",
      "BRNN-2hl-drop              0.8072  0.437879       0.821333   0.405872   \n",
      "large-LSTM-1hl             0.8788  0.279688       0.893916   0.256513   \n",
      "large-LSTM-1hl-drop        0.8612  0.317863       0.842147   0.359524   \n",
      "large-LSTM-2hl-drop        0.8660  0.311136       0.881474   0.291582   \n",
      "large-LSTM-3hl-drop        0.8516  0.332037       0.867684   0.317230   \n",
      "large-BRNN-1hl-drop        0.8308  0.380965       0.833011   0.379739   \n",
      "large-BRNN-2hl-drop        0.8620  0.296914       0.873684   0.301939   \n",
      "large-BRNN-2hl             0.8832  0.275746       0.894842   0.261085   \n",
      "large-BRNN-1hl             0.8516  0.333317       0.892295   0.259894   \n",
      "large-LSTM-2hl             0.8808  0.285777       0.895263   0.258402   \n",
      "large-LSTM-3hl             0.7640  0.467008       0.891347   0.268192   \n",
      "\n",
      "                          trainTime  \n",
      "LSTM-1hl            00:02:27.162798  \n",
      "LSTM-1hl-drop       00:02:48.225743  \n",
      "LSTM-2hl-drop       00:05:16.154574  \n",
      "BRNN-1hl-drop       00:05:16.401130  \n",
      "BRNN-2hl-drop       00:09:55.164427  \n",
      "large-LSTM-1hl      00:15:27.364819  \n",
      "large-LSTM-1hl-drop 00:18:08.538732  \n",
      "large-LSTM-2hl-drop 00:33:51.334061  \n",
      "large-LSTM-3hl-drop 00:48:23.795770  \n",
      "large-BRNN-1hl-drop 00:34:07.770787  \n",
      "large-BRNN-2hl-drop 01:03:30.378286  \n",
      "large-BRNN-2hl      01:00:16.108091  \n",
      "large-BRNN-1hl      00:30:03.325117  \n",
      "large-LSTM-2hl      00:28:53.199552  \n",
      "large-LSTM-3hl      00:42:47.162387  \n"
     ]
    }
   ],
   "source": [
    "validacion=red_neuronal.evaluate(X_test, y_test)\n",
    "print(\"Test loss\", validacion[0])\n",
    "print(\"Test accuracy\", validacion[1])\n",
    "df=df.append(pd.Series({'testLoss': validacion[0], 'testAccuracy': validacion[1], 'trainLoss':history.history['loss'][-1], 'trainAccuracy':history.history['acc'][-1],'trainTime':time},name='large-LSTM-3hl'))\n",
    "print(df)"
   ]
  },
  {
   "cell_type": "code",
   "execution_count": 71,
   "metadata": {
    "scrolled": true
   },
   "outputs": [
    {
     "data": {
      "text/plain": [
       "<matplotlib.legend.Legend at 0x20876112dd8>"
      ]
     },
     "execution_count": 71,
     "metadata": {},
     "output_type": "execute_result"
    },
    {
     "data": {
      "text/plain": [
       "<matplotlib.figure.Figure at 0x208761127f0>"
      ]
     },
     "metadata": {},
     "output_type": "display_data"
    },
    {
     "data": {
      "image/png": "[encoded data removed]",
      "text/plain": [
       "<matplotlib.figure.Figure at 0x2086ba19390>"
      ]
     },
     "metadata": {},
     "output_type": "display_data"
    }
   ],
   "source": [
    "import matplotlib.pyplot as plt\n",
    "plt.figure()\n",
    "df.iloc[:,0:4].plot(kind='bar',legend=False).legend(loc='center left', bbox_to_anchor=(1, 0.5))"
   ]
  }
 ],
 "metadata": {
  "kernelspec": {
   "display_name": "Python 3",
   "language": "python",
   "name": "python3"
  },
  "language_info": {
   "codemirror_mode": {
    "name": "ipython",
    "version": 3
   },
   "file_extension": ".py",
   "mimetype": "text/x-python",
   "name": "python",
   "nbconvert_exporter": "python",
   "pygments_lexer": "ipython3",
   "version": "3.6.4"
  }
 },
 "nbformat": 4,
 "nbformat_minor": 2
}
