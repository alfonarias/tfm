{
 "cells": [
  {
   "cell_type": "markdown",
   "metadata": {},
   "source": [
    "![alt text](logo2.png \"Title\")"
   ]
  },
  {
   "cell_type": "markdown",
   "metadata": {},
   "source": [
    "# Sentiment classification for movie reviews"
   ]
  },
  {
   "cell_type": "markdown",
   "metadata": {},
   "source": [
    "Análisis de sentimiento mediante Recurrent Neural Networs usando el dataset publicado en http://ai.stanford.edu/~amaas/data/sentiment/ y procesado en un único .csv por https://www.kaggle.com/utathya/imdb-review-dataset"
   ]
  },
  {
   "cell_type": "code",
   "execution_count": 1,
   "metadata": {},
   "outputs": [],
   "source": [
    "import pandas as pd"
   ]
  },
  {
   "cell_type": "code",
   "execution_count": 2,
   "metadata": {},
   "outputs": [
    {
     "data": {
      "text/html": [
       "<div>\n",
       "<style scoped>\n",
       "    .dataframe tbody tr th:only-of-type {\n",
       "        vertical-align: middle;\n",
       "    }\n",
       "\n",
       "    .dataframe tbody tr th {\n",
       "        vertical-align: top;\n",
       "    }\n",
       "\n",
       "    .dataframe thead th {\n",
       "        text-align: right;\n",
       "    }\n",
       "</style>\n",
       "<table border=\"1\" class=\"dataframe\">\n",
       "  <thead>\n",
       "    <tr style=\"text-align: right;\">\n",
       "      <th></th>\n",
       "      <th>type</th>\n",
       "      <th>review</th>\n",
       "      <th>label</th>\n",
       "      <th>file</th>\n",
       "    </tr>\n",
       "  </thead>\n",
       "  <tbody>\n",
       "    <tr>\n",
       "      <th>0</th>\n",
       "      <td>test</td>\n",
       "      <td>Once again Mr. Costner has dragged out a movie...</td>\n",
       "      <td>neg</td>\n",
       "      <td>0_2.txt</td>\n",
       "    </tr>\n",
       "    <tr>\n",
       "      <th>1</th>\n",
       "      <td>test</td>\n",
       "      <td>This is an example of why the majority of acti...</td>\n",
       "      <td>neg</td>\n",
       "      <td>10000_4.txt</td>\n",
       "    </tr>\n",
       "    <tr>\n",
       "      <th>2</th>\n",
       "      <td>test</td>\n",
       "      <td>First of all I hate those moronic rappers, who...</td>\n",
       "      <td>neg</td>\n",
       "      <td>10001_1.txt</td>\n",
       "    </tr>\n",
       "    <tr>\n",
       "      <th>3</th>\n",
       "      <td>test</td>\n",
       "      <td>Not even the Beatles could write songs everyon...</td>\n",
       "      <td>neg</td>\n",
       "      <td>10002_3.txt</td>\n",
       "    </tr>\n",
       "    <tr>\n",
       "      <th>4</th>\n",
       "      <td>test</td>\n",
       "      <td>Brass pictures (movies is not a fitting word f...</td>\n",
       "      <td>neg</td>\n",
       "      <td>10003_3.txt</td>\n",
       "    </tr>\n",
       "  </tbody>\n",
       "</table>\n",
       "</div>"
      ],
      "text/plain": [
       "   type                                             review label         file\n",
       "0  test  Once again Mr. Costner has dragged out a movie...   neg      0_2.txt\n",
       "1  test  This is an example of why the majority of acti...   neg  10000_4.txt\n",
       "2  test  First of all I hate those moronic rappers, who...   neg  10001_1.txt\n",
       "3  test  Not even the Beatles could write songs everyon...   neg  10002_3.txt\n",
       "4  test  Brass pictures (movies is not a fitting word f...   neg  10003_3.txt"
      ]
     },
     "execution_count": 2,
     "metadata": {},
     "output_type": "execute_result"
    }
   ],
   "source": [
    "data = pd.read_csv(\"imdb_master.csv\", encoding='latin-1', index_col = 0)\n",
    "data.head()"
   ]
  },
  {
   "cell_type": "code",
   "execution_count": 3,
   "metadata": {},
   "outputs": [],
   "source": [
    "data_labeled = data[data.label != 'unsup']\n",
    "del data"
   ]
  },
  {
   "cell_type": "code",
   "execution_count": 4,
   "metadata": {},
   "outputs": [
    {
     "name": "stdout",
     "output_type": "stream",
     "text": [
      "Número total de reviews -->  50000\n",
      "Número total de reviews positivas -->  25000\n",
      "Número total de reviews negativas -->  25000\n"
     ]
    }
   ],
   "source": [
    "print(\"Número total de reviews --> \",len(data_labeled))\n",
    "print(\"Número total de reviews positivas --> \",len(data_labeled[data_labeled[\"label\"]=='pos']))\n",
    "print(\"Número total de reviews negativas --> \",len(data_labeled[data_labeled[\"label\"]=='neg']))"
   ]
  },
  {
   "cell_type": "code",
   "execution_count": 5,
   "metadata": {},
   "outputs": [],
   "source": [
    "y=data_labeled['label'].apply(lambda x: 0 if x == 'neg' else 1)"
   ]
  },
  {
   "cell_type": "markdown",
   "metadata": {},
   "source": [
    "Para construir la estructura de nuestra red neuronal y evitar un tiempo excesivo en la fase de entrenamiento, dividiremos el conjunto data_labeled en dos conjuntos, uno large y otro small. Reservaremos un subconjunto de 40000 reviews para entrenar mejor nuestra red neuronal más adelante. Y ahora trabajaremos con un conjunto de 10000 reviews, de las cuales 2500 serán nuestro conjunto de datos de test."
   ]
  },
  {
   "cell_type": "code",
   "execution_count": 6,
   "metadata": {},
   "outputs": [],
   "source": [
    "from sklearn.model_selection import train_test_split\n",
    "\n",
    "#Aislamos nuestro conjunto de test y de train\n",
    "reviews_large, reviews_test, y_large, y_test = train_test_split(data_labeled['review'], y, test_size=2500, stratify=y)\n",
    "\n",
    "#Extraemos un subconjunto de entrenamiento de solo 7500 reviews\n",
    "reviews_rest, reviews_train, y_rest, y_train = train_test_split(reviews_large, y_large, test_size=7500, stratify=y_large)"
   ]
  },
  {
   "cell_type": "markdown",
   "metadata": {},
   "source": [
    "### Procesamiento de texto "
   ]
  },
  {
   "cell_type": "code",
   "execution_count": 7,
   "metadata": {},
   "outputs": [
    {
     "name": "stderr",
     "output_type": "stream",
     "text": [
      "C:\\Users\\Alfonso.arias\\AppData\\Local\\Continuum\\anaconda3\\lib\\site-packages\\h5py\\__init__.py:36: FutureWarning: Conversion of the second argument of issubdtype from `float` to `np.floating` is deprecated. In future, it will be treated as `np.float64 == np.dtype(float).type`.\n",
      "  from ._conv import register_converters as _register_converters\n",
      "Using TensorFlow backend.\n"
     ]
    }
   ],
   "source": [
    "import keras"
   ]
  },
  {
   "cell_type": "code",
   "execution_count": 8,
   "metadata": {},
   "outputs": [],
   "source": [
    "max_dic = 1000 #Número máximo de palabras que tendrá nuestro diccionario.\n",
    "\n",
    "#El Tokenizer de Keras nos permite quedarnos con las palabras más frecuentes de todas las reviews\n",
    "diccionario = keras.preprocessing.text.Tokenizer(num_words = max_dic)\n",
    "diccionario.fit_on_texts(reviews_train)\n",
    "#Ahora, por cada review obtenemos un vector de enteros indicando la palabra del diccionario\n",
    "X_train = diccionario.texts_to_sequences(reviews_train)\n",
    "\n",
    "#Realizamos lo mismo para el data set de test\n",
    "X_test = diccionario.texts_to_sequences(reviews_test)"
   ]
  },
  {
   "cell_type": "code",
   "execution_count": 9,
   "metadata": {},
   "outputs": [],
   "source": [
    "#Es recomendable que todas las reviews tengan la misma extensión de palabras\n",
    "max_palabras=300\n",
    "X_train=keras.preprocessing.sequence.pad_sequences(X_train,maxlen=max_palabras)\n",
    "X_test=keras.preprocessing.sequence.pad_sequences(X_test,maxlen=max_palabras)"
   ]
  },
  {
   "cell_type": "markdown",
   "metadata": {},
   "source": [
    "### Estructura RNN"
   ]
  },
  {
   "cell_type": "code",
   "execution_count": 10,
   "metadata": {},
   "outputs": [
    {
     "name": "stdout",
     "output_type": "stream",
     "text": [
      "_________________________________________________________________\n",
      "Layer (type)                 Output Shape              Param #   \n",
      "=================================================================\n",
      "embedding_1 (Embedding)      (None, 300, 64)           64000     \n",
      "_________________________________________________________________\n",
      "lstm_1 (LSTM)                (None, 32)                12416     \n",
      "_________________________________________________________________\n",
      "dense_1 (Dense)              (None, 1)                 33        \n",
      "_________________________________________________________________\n",
      "activation_1 (Activation)    (None, 1)                 0         \n",
      "=================================================================\n",
      "Total params: 76,449\n",
      "Trainable params: 76,449\n",
      "Non-trainable params: 0\n",
      "_________________________________________________________________\n"
     ]
    }
   ],
   "source": [
    "red_neuronal=keras.models.Sequential()\n",
    "\n",
    "#Primera capa tipo embedding. Creamos un embedding de dimensión 64\n",
    "red_neuronal.add(keras.layers.embeddings.Embedding(input_dim=max_dic, input_length=max_palabras, output_dim=64))\n",
    "\n",
    "#Segunda capa tipo LSTM con 32 neuronas. Devuelve un vector después de procesar la secuencia completa\n",
    "red_neuronal.add(keras.layers.recurrent.LSTM(32))\n",
    "\n",
    "#Última capa que devuelve un valor entre 0 y 1\n",
    "red_neuronal.add(keras.layers.core.Dense(1))\n",
    "red_neuronal.add(keras.layers.core.Activation('sigmoid'))\n",
    "\n",
    "red_neuronal.summary()"
   ]
  },
  {
   "cell_type": "code",
   "execution_count": 11,
   "metadata": {},
   "outputs": [],
   "source": [
    "red_neuronal.compile(loss='binary_crossentropy', optimizer='adam', metrics=[\"accuracy\"])"
   ]
  },
  {
   "cell_type": "code",
   "execution_count": 12,
   "metadata": {
    "scrolled": true
   },
   "outputs": [
    {
     "name": "stdout",
     "output_type": "stream",
     "text": [
      "Epoch 1/5\n",
      "7500/7500 [==============================] - 40s 5ms/step - loss: 0.5555 - acc: 0.7092\n",
      "Epoch 2/5\n",
      "7500/7500 [==============================] - 39s 5ms/step - loss: 0.3805 - acc: 0.8371\n",
      "Epoch 3/5\n",
      "7500/7500 [==============================] - 40s 5ms/step - loss: 0.3499 - acc: 0.8527\n",
      "Epoch 4/5\n",
      "7500/7500 [==============================] - 39s 5ms/step - loss: 0.2991 - acc: 0.8751\n",
      "Epoch 5/5\n",
      "7500/7500 [==============================] - 39s 5ms/step - loss: 0.3403 - acc: 0.8532\n"
     ]
    }
   ],
   "source": [
    "history=red_neuronal.fit(X_train, y_train, batch_size=32, epochs=5)"
   ]
  },
  {
   "cell_type": "code",
   "execution_count": 13,
   "metadata": {},
   "outputs": [
    {
     "name": "stdout",
     "output_type": "stream",
     "text": [
      "2500/2500 [==============================] - 3s 1ms/step\n",
      "Test loss 0.42026921396255495\n",
      "Test accuracy 0.8096\n",
      "          testAccuracy  testLoss  trainAccuracy  trainLoss\n",
      "LSTM-1hl        0.8096  0.420269         0.8532   0.340296\n"
     ]
    }
   ],
   "source": [
    "validacion=red_neuronal.evaluate(X_test, y_test)\n",
    "print(\"Test loss\", validacion[0])\n",
    "print(\"Test accuracy\", validacion[1])\n",
    "df=pd.DataFrame({'testLoss': validacion[0], 'testAccuracy': validacion[1], 'trainLoss':history.history['loss'][-1], 'trainAccuracy':history.history['acc'][-1] },index=['LSTM-1hl'])\n",
    "print(df)"
   ]
  },
  {
   "cell_type": "markdown",
   "metadata": {},
   "source": [
    "Observamos que la precisión de nuestro conjunto de entrenamiento es mucho mayor que la de nuestro conjunto de test. Para solucionarlo, usaremos Dropout"
   ]
  },
  {
   "cell_type": "code",
   "execution_count": 14,
   "metadata": {
    "scrolled": true
   },
   "outputs": [
    {
     "name": "stdout",
     "output_type": "stream",
     "text": [
      "_________________________________________________________________\n",
      "Layer (type)                 Output Shape              Param #   \n",
      "=================================================================\n",
      "embedding_2 (Embedding)      (None, 300, 64)           64000     \n",
      "_________________________________________________________________\n",
      "lstm_2 (LSTM)                (None, 32)                12416     \n",
      "_________________________________________________________________\n",
      "dense_2 (Dense)              (None, 1)                 33        \n",
      "_________________________________________________________________\n",
      "activation_2 (Activation)    (None, 1)                 0         \n",
      "=================================================================\n",
      "Total params: 76,449\n",
      "Trainable params: 76,449\n",
      "Non-trainable params: 0\n",
      "_________________________________________________________________\n"
     ]
    }
   ],
   "source": [
    "red_neuronal=keras.models.Sequential()\n",
    "red_neuronal.add(keras.layers.embeddings.Embedding(input_dim=max_dic, input_length=max_palabras, output_dim=64))\n",
    "red_neuronal.add(keras.layers.recurrent.LSTM(32,recurrent_dropout=0.45))\n",
    "red_neuronal.add(keras.layers.core.Dense(1))\n",
    "red_neuronal.add(keras.layers.core.Activation('sigmoid'))\n",
    "red_neuronal.summary()"
   ]
  },
  {
   "cell_type": "code",
   "execution_count": 15,
   "metadata": {
    "scrolled": true
   },
   "outputs": [
    {
     "name": "stdout",
     "output_type": "stream",
     "text": [
      "Epoch 1/5\n",
      "7500/7500 [==============================] - 44s 6ms/step - loss: 0.6063 - acc: 0.6672\n",
      "Epoch 2/5\n",
      "7500/7500 [==============================] - 43s 6ms/step - loss: 0.4827 - acc: 0.7801\n",
      "Epoch 3/5\n",
      "7500/7500 [==============================] - 44s 6ms/step - loss: 0.4402 - acc: 0.8053\n",
      "Epoch 4/5\n",
      "7500/7500 [==============================] - 43s 6ms/step - loss: 0.4511 - acc: 0.7985\n",
      "Epoch 5/5\n",
      "7500/7500 [==============================] - 43s 6ms/step - loss: 0.4201 - acc: 0.8157\n"
     ]
    }
   ],
   "source": [
    "red_neuronal.compile(loss='binary_crossentropy', optimizer='adam', metrics=[\"accuracy\"])\n",
    "history=red_neuronal.fit(X_train, y_train, batch_size=32, epochs=5)"
   ]
  },
  {
   "cell_type": "code",
   "execution_count": 16,
   "metadata": {},
   "outputs": [
    {
     "name": "stdout",
     "output_type": "stream",
     "text": [
      "2500/2500 [==============================] - 3s 1ms/step\n",
      "Test loss 0.46325392713546754\n",
      "Test accuracy 0.7912\n",
      "               testAccuracy  testLoss  trainAccuracy  trainLoss\n",
      "LSTM-1hl             0.8096  0.420269       0.853200   0.340296\n",
      "LSTM-1hl-drop        0.7912  0.463254       0.815733   0.420051\n"
     ]
    }
   ],
   "source": [
    "validacion=red_neuronal.evaluate(X_test, y_test)\n",
    "print(\"Test loss\", validacion[0])\n",
    "print(\"Test accuracy\", validacion[1])\n",
    "df=df.append(pd.Series({'testLoss': validacion[0], 'testAccuracy': validacion[1], 'trainLoss':history.history['loss'][-1], 'trainAccuracy':history.history['acc'][-1]},name='LSTM-1hl-drop'))\n",
    "print(df)"
   ]
  },
  {
   "cell_type": "markdown",
   "metadata": {},
   "source": [
    "Observamos que no se obtiene tanto overfitting. Vamos a añadir otro LSTM layer manteniendo los dropout."
   ]
  },
  {
   "cell_type": "code",
   "execution_count": 18,
   "metadata": {},
   "outputs": [
    {
     "name": "stdout",
     "output_type": "stream",
     "text": [
      "_________________________________________________________________\n",
      "Layer (type)                 Output Shape              Param #   \n",
      "=================================================================\n",
      "embedding_4 (Embedding)      (None, 300, 64)           64000     \n",
      "_________________________________________________________________\n",
      "lstm_5 (LSTM)                (None, 300, 32)           12416     \n",
      "_________________________________________________________________\n",
      "lstm_6 (LSTM)                (None, 32)                8320      \n",
      "_________________________________________________________________\n",
      "dense_3 (Dense)              (None, 1)                 33        \n",
      "_________________________________________________________________\n",
      "activation_3 (Activation)    (None, 1)                 0         \n",
      "=================================================================\n",
      "Total params: 84,769\n",
      "Trainable params: 84,769\n",
      "Non-trainable params: 0\n",
      "_________________________________________________________________\n"
     ]
    }
   ],
   "source": [
    "red_neuronal=keras.models.Sequential()\n",
    "red_neuronal.add(keras.layers.embeddings.Embedding(input_dim=max_dic, input_length=max_palabras, output_dim=64))\n",
    "red_neuronal.add(keras.layers.recurrent.LSTM(32,recurrent_dropout=0.45,return_sequences=True))\n",
    "red_neuronal.add(keras.layers.recurrent.LSTM(32,recurrent_dropout=0.45))\n",
    "red_neuronal.add(keras.layers.core.Dense(1))\n",
    "red_neuronal.add(keras.layers.core.Activation('sigmoid'))\n",
    "red_neuronal.summary()"
   ]
  },
  {
   "cell_type": "code",
   "execution_count": 19,
   "metadata": {
    "scrolled": true
   },
   "outputs": [
    {
     "name": "stdout",
     "output_type": "stream",
     "text": [
      "Epoch 1/5\n",
      "7500/7500 [==============================] - 101s 14ms/step - loss: 0.5797 - acc: 0.6812\n",
      "Epoch 2/5\n",
      "7500/7500 [==============================] - 106s 14ms/step - loss: 0.4642 - acc: 0.7869\n",
      "Epoch 3/5\n",
      "7500/7500 [==============================] - 98s 13ms/step - loss: 0.4376 - acc: 0.7981\n",
      "Epoch 4/5\n",
      "7500/7500 [==============================] - 97s 13ms/step - loss: 0.4072 - acc: 0.8220\n",
      "Epoch 5/5\n",
      "7500/7500 [==============================] - 81s 11ms/step - loss: 0.3965 - acc: 0.8284\n"
     ]
    }
   ],
   "source": [
    "red_neuronal.compile(loss='binary_crossentropy', optimizer='adam', metrics=[\"accuracy\"])\n",
    "history=red_neuronal.fit(X_train, y_train, batch_size=32, epochs=5)"
   ]
  },
  {
   "cell_type": "code",
   "execution_count": 20,
   "metadata": {},
   "outputs": [
    {
     "name": "stdout",
     "output_type": "stream",
     "text": [
      "2500/2500 [==============================] - 7s 3ms/step\n",
      "Test loss 0.4397216781616211\n",
      "Test accuracy 0.8024\n",
      "               testAccuracy  testLoss  trainAccuracy  trainLoss\n",
      "LSTM-1hl             0.8096  0.420269       0.853200   0.340296\n",
      "LSTM-1hl-drop        0.7912  0.463254       0.815733   0.420051\n",
      "LSTM-2hl-drop        0.8024  0.439722       0.828400   0.396510\n"
     ]
    }
   ],
   "source": [
    "validacion=red_neuronal.evaluate(X_test, y_test)\n",
    "print(\"Test loss\", validacion[0])\n",
    "print(\"Test accuracy\", validacion[1])\n",
    "df=df.append(pd.Series({'testLoss': validacion[0], 'testAccuracy': validacion[1], 'trainLoss':history.history['loss'][-1], 'trainAccuracy':history.history['acc'][-1]},name='LSTM-2hl-drop'))\n",
    "print(df)"
   ]
  },
  {
   "cell_type": "markdown",
   "metadata": {},
   "source": [
    "Usaremos ahora BRNN"
   ]
  },
  {
   "cell_type": "code",
   "execution_count": 21,
   "metadata": {},
   "outputs": [
    {
     "name": "stdout",
     "output_type": "stream",
     "text": [
      "_________________________________________________________________\n",
      "Layer (type)                 Output Shape              Param #   \n",
      "=================================================================\n",
      "embedding_5 (Embedding)      (None, 300, 64)           64000     \n",
      "_________________________________________________________________\n",
      "bidirectional_1 (Bidirection (None, 64)                24832     \n",
      "_________________________________________________________________\n",
      "dense_4 (Dense)              (None, 1)                 65        \n",
      "_________________________________________________________________\n",
      "activation_4 (Activation)    (None, 1)                 0         \n",
      "=================================================================\n",
      "Total params: 88,897\n",
      "Trainable params: 88,897\n",
      "Non-trainable params: 0\n",
      "_________________________________________________________________\n"
     ]
    }
   ],
   "source": [
    "red_neuronal=keras.models.Sequential()\n",
    "red_neuronal.add(keras.layers.embeddings.Embedding(input_dim=max_dic, input_length=max_palabras, output_dim=64))\n",
    "red_neuronal.add(keras.layers.Bidirectional(keras.layers.recurrent.LSTM(32,recurrent_dropout=0.45)))\n",
    "red_neuronal.add(keras.layers.core.Dense(1))\n",
    "red_neuronal.add(keras.layers.core.Activation('sigmoid'))\n",
    "red_neuronal.summary()"
   ]
  },
  {
   "cell_type": "code",
   "execution_count": 22,
   "metadata": {},
   "outputs": [
    {
     "name": "stdout",
     "output_type": "stream",
     "text": [
      "Epoch 1/5\n",
      "7500/7500 [==============================] - 103s 14ms/step - loss: 0.6150 - acc: 0.6576\n",
      "Epoch 2/5\n",
      "7500/7500 [==============================] - 89s 12ms/step - loss: 0.5000 - acc: 0.7685\n",
      "Epoch 3/5\n",
      "7500/7500 [==============================] - 97s 13ms/step - loss: 0.4552 - acc: 0.7984\n",
      "Epoch 4/5\n",
      "7500/7500 [==============================] - 110s 15ms/step - loss: 0.4330 - acc: 0.8073\n",
      "Epoch 5/5\n",
      "7500/7500 [==============================] - 105s 14ms/step - loss: 0.4350 - acc: 0.8036\n"
     ]
    }
   ],
   "source": [
    "red_neuronal.compile(loss='binary_crossentropy', optimizer='adam', metrics=[\"accuracy\"])\n",
    "history=red_neuronal.fit(X_train, y_train, batch_size=32, epochs=5)"
   ]
  },
  {
   "cell_type": "code",
   "execution_count": 23,
   "metadata": {},
   "outputs": [
    {
     "name": "stdout",
     "output_type": "stream",
     "text": [
      "2500/2500 [==============================] - 6s 2ms/step\n",
      "Test loss 0.4912445330619812\n",
      "Test accuracy 0.764\n",
      "               testAccuracy  testLoss  trainAccuracy  trainLoss\n",
      "LSTM-1hl             0.8096  0.420269       0.853200   0.340296\n",
      "LSTM-1hl-drop        0.7912  0.463254       0.815733   0.420051\n",
      "LSTM-2hl-drop        0.8024  0.439722       0.828400   0.396510\n",
      "BRNN-1hl-drop        0.7640  0.491245       0.803600   0.435031\n"
     ]
    }
   ],
   "source": [
    "validacion=red_neuronal.evaluate(X_test, y_test)\n",
    "print(\"Test loss\", validacion[0])\n",
    "print(\"Test accuracy\", validacion[1])\n",
    "df=df.append(pd.Series({'testLoss': validacion[0], 'testAccuracy': validacion[1], 'trainLoss':history.history['loss'][-1], 'trainAccuracy':history.history['acc'][-1]},name='BRNN-1hl-drop'))\n",
    "print(df)"
   ]
  },
  {
   "cell_type": "code",
   "execution_count": 24,
   "metadata": {},
   "outputs": [
    {
     "name": "stdout",
     "output_type": "stream",
     "text": [
      "_________________________________________________________________\n",
      "Layer (type)                 Output Shape              Param #   \n",
      "=================================================================\n",
      "embedding_6 (Embedding)      (None, 300, 64)           64000     \n",
      "_________________________________________________________________\n",
      "bidirectional_2 (Bidirection (None, 300, 64)           24832     \n",
      "_________________________________________________________________\n",
      "bidirectional_3 (Bidirection (None, 64)                24832     \n",
      "_________________________________________________________________\n",
      "dense_5 (Dense)              (None, 1)                 65        \n",
      "_________________________________________________________________\n",
      "activation_5 (Activation)    (None, 1)                 0         \n",
      "=================================================================\n",
      "Total params: 113,729\n",
      "Trainable params: 113,729\n",
      "Non-trainable params: 0\n",
      "_________________________________________________________________\n"
     ]
    }
   ],
   "source": [
    "red_neuronal=keras.models.Sequential()\n",
    "red_neuronal.add(keras.layers.embeddings.Embedding(input_dim=max_dic, input_length=max_palabras, output_dim=64))\n",
    "red_neuronal.add(keras.layers.Bidirectional(keras.layers.recurrent.LSTM(32,recurrent_dropout=0.45,return_sequences=True)))\n",
    "red_neuronal.add(keras.layers.Bidirectional(keras.layers.recurrent.LSTM(32,recurrent_dropout=0.45)))\n",
    "red_neuronal.add(keras.layers.core.Dense(1))\n",
    "red_neuronal.add(keras.layers.core.Activation('sigmoid'))\n",
    "red_neuronal.summary()"
   ]
  },
  {
   "cell_type": "code",
   "execution_count": 25,
   "metadata": {},
   "outputs": [
    {
     "name": "stdout",
     "output_type": "stream",
     "text": [
      "Epoch 1/5\n",
      "7500/7500 [==============================] - 195s 26ms/step - loss: 0.5906 - acc: 0.6719\n",
      "Epoch 2/5\n",
      "7500/7500 [==============================] - 187s 25ms/step - loss: 0.4659 - acc: 0.7849\n",
      "Epoch 3/5\n",
      "7500/7500 [==============================] - 187s 25ms/step - loss: 0.4203 - acc: 0.8149\n",
      "Epoch 4/5\n",
      "7500/7500 [==============================] - 186s 25ms/step - loss: 0.4127 - acc: 0.8236\n",
      "Epoch 5/5\n",
      "7500/7500 [==============================] - 181s 24ms/step - loss: 0.4013 - acc: 0.8267\n"
     ]
    }
   ],
   "source": [
    "red_neuronal.compile(loss='binary_crossentropy', optimizer='adam', metrics=[\"accuracy\"])\n",
    "history=red_neuronal.fit(X_train, y_train, batch_size=32, epochs=5)"
   ]
  },
  {
   "cell_type": "code",
   "execution_count": 26,
   "metadata": {},
   "outputs": [
    {
     "name": "stdout",
     "output_type": "stream",
     "text": [
      "2500/2500 [==============================] - 14s 6ms/step\n",
      "Test loss 0.5054503587722778\n",
      "Test accuracy 0.7576\n",
      "               testAccuracy  testLoss  trainAccuracy  trainLoss\n",
      "LSTM-1hl             0.8096  0.420269       0.853200   0.340296\n",
      "LSTM-1hl-drop        0.7912  0.463254       0.815733   0.420051\n",
      "LSTM-2hl-drop        0.8024  0.439722       0.828400   0.396510\n",
      "BRNN-1hl-drop        0.7640  0.491245       0.803600   0.435031\n",
      "BRNN-2hl-drop        0.7576  0.505450       0.826667   0.401276\n"
     ]
    }
   ],
   "source": [
    "validacion=red_neuronal.evaluate(X_test, y_test)\n",
    "print(\"Test loss\", validacion[0])\n",
    "print(\"Test accuracy\", validacion[1])\n",
    "df=df.append(pd.Series({'testLoss': validacion[0], 'testAccuracy': validacion[1], 'trainLoss':history.history['loss'][-1], 'trainAccuracy':history.history['acc'][-1]},name='BRNN-2hl-drop'))\n",
    "print(df)"
   ]
  },
  {
   "cell_type": "markdown",
   "metadata": {},
   "source": [
    "La precisión en nuestro test data set no mejora añadiendo un layer. Vamos a pasar a probar a entrenar un modelo con las 40000 reviews que no hemos usado junto con nuestro training set actual"
   ]
  },
  {
   "cell_type": "code",
   "execution_count": 10,
   "metadata": {},
   "outputs": [],
   "source": [
    "#Debemos usar el dataset grande para definir un nuevo diccionario\n",
    "diccionario_large = keras.preprocessing.text.Tokenizer(num_words = max_dic)\n",
    "diccionario_large.fit_on_texts(reviews_train)\n",
    "X_train_large = diccionario_large.texts_to_sequences(reviews_large)\n",
    "X_test_large = diccionario_large.texts_to_sequences(reviews_test)"
   ]
  },
  {
   "cell_type": "code",
   "execution_count": 11,
   "metadata": {},
   "outputs": [],
   "source": [
    "max_palabras=300\n",
    "X_train_large=keras.preprocessing.sequence.pad_sequences(X_train_large,maxlen=max_palabras)\n",
    "X_test_large=keras.preprocessing.sequence.pad_sequences(X_test_large,maxlen=max_palabras)"
   ]
  },
  {
   "cell_type": "code",
   "execution_count": 29,
   "metadata": {
    "scrolled": true
   },
   "outputs": [
    {
     "name": "stdout",
     "output_type": "stream",
     "text": [
      "_________________________________________________________________\n",
      "Layer (type)                 Output Shape              Param #   \n",
      "=================================================================\n",
      "embedding_7 (Embedding)      (None, 300, 64)           64000     \n",
      "_________________________________________________________________\n",
      "lstm_10 (LSTM)               (None, 32)                12416     \n",
      "_________________________________________________________________\n",
      "dense_6 (Dense)              (None, 1)                 33        \n",
      "_________________________________________________________________\n",
      "activation_6 (Activation)    (None, 1)                 0         \n",
      "=================================================================\n",
      "Total params: 76,449\n",
      "Trainable params: 76,449\n",
      "Non-trainable params: 0\n",
      "_________________________________________________________________\n"
     ]
    }
   ],
   "source": [
    "red_neuronal=keras.models.Sequential()\n",
    "red_neuronal.add(keras.layers.embeddings.Embedding(input_dim=max_dic, input_length=max_palabras, output_dim=64))\n",
    "red_neuronal.add(keras.layers.recurrent.LSTM(32,recurrent_dropout=0.45))\n",
    "red_neuronal.add(keras.layers.core.Dense(1))\n",
    "red_neuronal.add(keras.layers.core.Activation('sigmoid'))\n",
    "red_neuronal.summary()"
   ]
  },
  {
   "cell_type": "code",
   "execution_count": 30,
   "metadata": {
    "scrolled": true
   },
   "outputs": [
    {
     "name": "stdout",
     "output_type": "stream",
     "text": [
      "Epoch 1/5\n",
      "47500/47500 [==============================] - 276s 6ms/step - loss: 0.5146 - acc: 0.7478\n",
      "Epoch 2/5\n",
      "47500/47500 [==============================] - 219s 5ms/step - loss: 0.4577 - acc: 0.7894\n",
      "Epoch 3/5\n",
      "47500/47500 [==============================] - 226s 5ms/step - loss: 0.4203 - acc: 0.8138\n",
      "Epoch 4/5\n",
      "47500/47500 [==============================] - 217s 5ms/step - loss: 0.4105 - acc: 0.8148\n",
      "Epoch 5/5\n",
      "47500/47500 [==============================] - 215s 5ms/step - loss: 0.3909 - acc: 0.8277\n"
     ]
    }
   ],
   "source": [
    "red_neuronal.compile(loss='binary_crossentropy', optimizer='adam', metrics=[\"accuracy\"])\n",
    "history=red_neuronal.fit(X_train_large, y_large, batch_size=32, epochs=5)"
   ]
  },
  {
   "cell_type": "code",
   "execution_count": 31,
   "metadata": {
    "scrolled": true
   },
   "outputs": [
    {
     "name": "stdout",
     "output_type": "stream",
     "text": [
      "2500/2500 [==============================] - 3s 1ms/step\n",
      "Test loss 0.3597397653579712\n",
      "Test accuracy 0.844\n",
      "                     testAccuracy  testLoss  trainAccuracy  trainLoss\n",
      "LSTM-1hl                   0.8096  0.420269       0.853200   0.340296\n",
      "LSTM-1hl-drop              0.7912  0.463254       0.815733   0.420051\n",
      "LSTM-2hl-drop              0.8024  0.439722       0.828400   0.396510\n",
      "BRNN-1hl-drop              0.7640  0.491245       0.803600   0.435031\n",
      "BRNN-2hl-drop              0.7576  0.505450       0.826667   0.401276\n",
      "large-LSTM-1hl-drop        0.8440  0.359740       0.827663   0.390854\n"
     ]
    }
   ],
   "source": [
    "validacion=red_neuronal.evaluate(X_test, y_test)\n",
    "print(\"Test loss\", validacion[0])\n",
    "print(\"Test accuracy\", validacion[1])\n",
    "df=df.append(pd.Series({'testLoss': validacion[0], 'testAccuracy': validacion[1], 'trainLoss':history.history['loss'][-1], 'trainAccuracy':history.history['acc'][-1]},name='large-LSTM-1hl-drop'))\n",
    "print(df)"
   ]
  },
  {
   "cell_type": "markdown",
   "metadata": {},
   "source": [
    "RNN con dos capas del tipo LSTM"
   ]
  },
  {
   "cell_type": "code",
   "execution_count": 32,
   "metadata": {
    "scrolled": true
   },
   "outputs": [
    {
     "name": "stdout",
     "output_type": "stream",
     "text": [
      "_________________________________________________________________\n",
      "Layer (type)                 Output Shape              Param #   \n",
      "=================================================================\n",
      "embedding_8 (Embedding)      (None, 300, 64)           64000     \n",
      "_________________________________________________________________\n",
      "lstm_11 (LSTM)               (None, 300, 32)           12416     \n",
      "_________________________________________________________________\n",
      "lstm_12 (LSTM)               (None, 32)                8320      \n",
      "_________________________________________________________________\n",
      "dense_7 (Dense)              (None, 1)                 33        \n",
      "_________________________________________________________________\n",
      "activation_7 (Activation)    (None, 1)                 0         \n",
      "=================================================================\n",
      "Total params: 84,769\n",
      "Trainable params: 84,769\n",
      "Non-trainable params: 0\n",
      "_________________________________________________________________\n"
     ]
    }
   ],
   "source": [
    "red_neuronal=keras.models.Sequential()\n",
    "red_neuronal.add(keras.layers.embeddings.Embedding(input_dim=max_dic, input_length=max_palabras, output_dim=64))\n",
    "red_neuronal.add(keras.layers.recurrent.LSTM(32,recurrent_dropout=0.45,return_sequences=True))\n",
    "red_neuronal.add(keras.layers.recurrent.LSTM(32,recurrent_dropout=0.45))\n",
    "red_neuronal.add(keras.layers.core.Dense(1))\n",
    "red_neuronal.add(keras.layers.core.Activation('sigmoid'))\n",
    "red_neuronal.summary()"
   ]
  },
  {
   "cell_type": "code",
   "execution_count": 33,
   "metadata": {
    "scrolled": true
   },
   "outputs": [
    {
     "name": "stdout",
     "output_type": "stream",
     "text": [
      "Epoch 1/5\n",
      "47500/47500 [==============================] - 396s 8ms/step - loss: 0.4889 - acc: 0.7702\n",
      "Epoch 2/5\n",
      "47500/47500 [==============================] - 393s 8ms/step - loss: 0.4165 - acc: 0.8173\n",
      "Epoch 3/5\n",
      "47500/47500 [==============================] - 414s 9ms/step - loss: 0.4025 - acc: 0.8239\n",
      "Epoch 4/5\n",
      "47500/47500 [==============================] - 398s 8ms/step - loss: 0.3779 - acc: 0.8391\n",
      "Epoch 5/5\n",
      "47500/47500 [==============================] - 398s 8ms/step - loss: 0.3544 - acc: 0.8503\n"
     ]
    },
    {
     "data": {
      "text/plain": [
       "<keras.callbacks.History at 0x12f6886e198>"
      ]
     },
     "execution_count": 33,
     "metadata": {},
     "output_type": "execute_result"
    }
   ],
   "source": [
    "red_neuronal.compile(loss='binary_crossentropy', optimizer='adam', metrics=[\"accuracy\"])\n",
    "red_neuronal.fit(X_train_large, y_large, batch_size=32, epochs=5)"
   ]
  },
  {
   "cell_type": "code",
   "execution_count": 34,
   "metadata": {
    "scrolled": false
   },
   "outputs": [
    {
     "name": "stdout",
     "output_type": "stream",
     "text": [
      "2500/2500 [==============================] - 5s 2ms/step\n",
      "Test loss 0.342758146572113\n",
      "Test accuracy 0.858\n",
      "                     testAccuracy  testLoss  trainAccuracy  trainLoss\n",
      "LSTM-1hl                   0.8096  0.420269       0.853200   0.340296\n",
      "LSTM-1hl-drop              0.7912  0.463254       0.815733   0.420051\n",
      "LSTM-2hl-drop              0.8024  0.439722       0.828400   0.396510\n",
      "BRNN-1hl-drop              0.7640  0.491245       0.803600   0.435031\n",
      "BRNN-2hl-drop              0.7576  0.505450       0.826667   0.401276\n",
      "large-LSTM-1hl-drop        0.8440  0.359740       0.827663   0.390854\n",
      "large-LSTM-2hl-drop        0.8580  0.342758       0.827663   0.390854\n"
     ]
    }
   ],
   "source": [
    "validacion=red_neuronal.evaluate(X_test, y_test)\n",
    "print(\"Test loss\", validacion[0])\n",
    "print(\"Test accuracy\", validacion[1])\n",
    "df=df.append(pd.Series({'testLoss': validacion[0], 'testAccuracy': validacion[1], 'trainLoss':history.history['loss'][-1], 'trainAccuracy':history.history['acc'][-1]},name='large-LSTM-2hl-drop'))\n",
    "print(df)"
   ]
  },
  {
   "cell_type": "markdown",
   "metadata": {},
   "source": [
    "RNN con 3 capas del tipo LSTM"
   ]
  },
  {
   "cell_type": "code",
   "execution_count": 35,
   "metadata": {},
   "outputs": [
    {
     "name": "stdout",
     "output_type": "stream",
     "text": [
      "_________________________________________________________________\n",
      "Layer (type)                 Output Shape              Param #   \n",
      "=================================================================\n",
      "embedding_9 (Embedding)      (None, 300, 64)           64000     \n",
      "_________________________________________________________________\n",
      "lstm_13 (LSTM)               (None, 300, 32)           12416     \n",
      "_________________________________________________________________\n",
      "lstm_14 (LSTM)               (None, 300, 32)           8320      \n",
      "_________________________________________________________________\n",
      "lstm_15 (LSTM)               (None, 32)                8320      \n",
      "_________________________________________________________________\n",
      "dense_8 (Dense)              (None, 1)                 33        \n",
      "_________________________________________________________________\n",
      "activation_8 (Activation)    (None, 1)                 0         \n",
      "=================================================================\n",
      "Total params: 93,089\n",
      "Trainable params: 93,089\n",
      "Non-trainable params: 0\n",
      "_________________________________________________________________\n"
     ]
    }
   ],
   "source": [
    "red_neuronal=keras.models.Sequential()\n",
    "red_neuronal.add(keras.layers.embeddings.Embedding(input_dim=max_dic, input_length=max_palabras, output_dim=64))\n",
    "red_neuronal.add(keras.layers.recurrent.LSTM(32,recurrent_dropout=0.45,return_sequences=True))\n",
    "red_neuronal.add(keras.layers.recurrent.LSTM(32,recurrent_dropout=0.45,return_sequences=True))\n",
    "red_neuronal.add(keras.layers.recurrent.LSTM(32,recurrent_dropout=0.45))\n",
    "red_neuronal.add(keras.layers.core.Dense(1))\n",
    "red_neuronal.add(keras.layers.core.Activation('sigmoid'))\n",
    "red_neuronal.summary()"
   ]
  },
  {
   "cell_type": "code",
   "execution_count": 36,
   "metadata": {},
   "outputs": [
    {
     "name": "stdout",
     "output_type": "stream",
     "text": [
      "Epoch 1/5\n",
      "47500/47500 [==============================] - 561s 12ms/step - loss: 0.4823 - acc: 0.7730\n",
      "Epoch 2/5\n",
      "47500/47500 [==============================] - 539s 11ms/step - loss: 0.4142 - acc: 0.8191\n",
      "Epoch 3/5\n",
      "47500/47500 [==============================] - 569s 12ms/step - loss: 0.3858 - acc: 0.8331\n",
      "Epoch 4/5\n",
      "47500/47500 [==============================] - 532s 11ms/step - loss: 0.3596 - acc: 0.8481\n",
      "Epoch 5/5\n",
      "47500/47500 [==============================] - 552s 12ms/step - loss: 0.3310 - acc: 0.8619\n"
     ]
    }
   ],
   "source": [
    "red_neuronal.compile(loss='binary_crossentropy', optimizer='adam', metrics=[\"accuracy\"])\n",
    "history=red_neuronal.fit(X_train_large, y_large, batch_size=32, epochs=5)"
   ]
  },
  {
   "cell_type": "code",
   "execution_count": 37,
   "metadata": {
    "scrolled": true
   },
   "outputs": [
    {
     "name": "stdout",
     "output_type": "stream",
     "text": [
      "2500/2500 [==============================] - 7s 3ms/step\n",
      "Test loss 0.3202972860097885\n",
      "Test accuracy 0.864\n",
      "                     testAccuracy  testLoss  trainAccuracy  trainLoss\n",
      "LSTM-1hl                   0.8096  0.420269       0.853200   0.340296\n",
      "LSTM-1hl-drop              0.7912  0.463254       0.815733   0.420051\n",
      "LSTM-2hl-drop              0.8024  0.439722       0.828400   0.396510\n",
      "BRNN-1hl-drop              0.7640  0.491245       0.803600   0.435031\n",
      "BRNN-2hl-drop              0.7576  0.505450       0.826667   0.401276\n",
      "large-LSTM-1hl-drop        0.8440  0.359740       0.827663   0.390854\n",
      "large-LSTM-2hl-drop        0.8580  0.342758       0.827663   0.390854\n",
      "large-LSTM-3hl-drop        0.8640  0.320297       0.861874   0.330984\n"
     ]
    }
   ],
   "source": [
    "validacion=red_neuronal.evaluate(X_test, y_test)\n",
    "print(\"Test loss\", validacion[0])\n",
    "print(\"Test accuracy\", validacion[1])\n",
    "df=df.append(pd.Series({'testLoss': validacion[0], 'testAccuracy': validacion[1], 'trainLoss':history.history['loss'][-1], 'trainAccuracy':history.history['acc'][-1]},name='large-LSTM-3hl-drop'))\n",
    "print(df)"
   ]
  },
  {
   "cell_type": "markdown",
   "metadata": {},
   "source": [
    "BRNN con todos los datos de entrenamiento"
   ]
  },
  {
   "cell_type": "code",
   "execution_count": 20,
   "metadata": {},
   "outputs": [
    {
     "name": "stdout",
     "output_type": "stream",
     "text": [
      "_________________________________________________________________\n",
      "Layer (type)                 Output Shape              Param #   \n",
      "=================================================================\n",
      "embedding_1 (Embedding)      (None, 300, 64)           64000     \n",
      "_________________________________________________________________\n",
      "bidirectional_1 (Bidirection (None, 64)                24832     \n",
      "_________________________________________________________________\n",
      "dense_1 (Dense)              (None, 1)                 65        \n",
      "_________________________________________________________________\n",
      "activation_1 (Activation)    (None, 1)                 0         \n",
      "=================================================================\n",
      "Total params: 88,897\n",
      "Trainable params: 88,897\n",
      "Non-trainable params: 0\n",
      "_________________________________________________________________\n"
     ]
    }
   ],
   "source": [
    "red_neuronal=keras.models.Sequential()\n",
    "red_neuronal.add(keras.layers.embeddings.Embedding(input_dim=max_dic, input_length=max_palabras, output_dim=64))\n",
    "red_neuronal.add(keras.layers.Bidirectional(keras.layers.recurrent.LSTM(32,recurrent_dropout=0.45)))\n",
    "red_neuronal.add(keras.layers.core.Dense(1))\n",
    "red_neuronal.add(keras.layers.core.Activation('sigmoid'))\n",
    "red_neuronal.summary()"
   ]
  },
  {
   "cell_type": "code",
   "execution_count": 21,
   "metadata": {},
   "outputs": [
    {
     "name": "stdout",
     "output_type": "stream",
     "text": [
      "Epoch 1/5\n",
      "47500/47500 [==============================] - 385s 8ms/step - loss: 0.5037 - acc: 0.7606\n",
      "Epoch 2/5\n",
      "47500/47500 [==============================] - 379s 8ms/step - loss: 0.4589 - acc: 0.7898\n",
      "Epoch 3/5\n",
      "47500/47500 [==============================] - 383s 8ms/step - loss: 0.4316 - acc: 0.8076\n",
      "Epoch 4/5\n",
      "47500/47500 [==============================] - 383s 8ms/step - loss: 0.4088 - acc: 0.8215\n",
      "Epoch 5/5\n",
      "47500/47500 [==============================] - 381s 8ms/step - loss: 0.3913 - acc: 0.8295\n"
     ]
    }
   ],
   "source": [
    "red_neuronal.compile(loss='binary_crossentropy', optimizer='adam', metrics=[\"accuracy\"])\n",
    "history=red_neuronal.fit(X_train_large, y_large, batch_size=32, epochs=5)"
   ]
  },
  {
   "cell_type": "code",
   "execution_count": 22,
   "metadata": {},
   "outputs": [
    {
     "name": "stdout",
     "output_type": "stream",
     "text": [
      "2500/2500 [==============================] - 4s 2ms/step\n",
      "Test loss 0.3377771860122681\n",
      "Test accuracy 0.864\n",
      "                     testAccuracy  testLoss  trainAccuracy  trainLoss\n",
      "LSTM-1hl                   0.8096  0.420269       0.853200   0.340296\n",
      "LSTM-1hl-drop              0.7912  0.463254       0.815733   0.420051\n",
      "LSTM-2hl-drop              0.8024  0.439722       0.828400   0.396510\n",
      "BRNN-1hl-drop              0.7640  0.491245       0.803600   0.435031\n",
      "large-LSTM-1hl-drop        0.8440  0.359740       0.827663   0.390854\n",
      "BRNN-2hl-drop              0.7576  0.505450       0.826667   0.401276\n",
      "large-LSTM-2hl-drop        0.8580  0.342758       0.827663   0.390854\n",
      "large-LSTM-3hl-drop        0.8640  0.320297       0.861874   0.330984\n",
      "large-BRNN-1hl-drop        0.8640  0.337777       0.829453   0.391300\n"
     ]
    }
   ],
   "source": [
    "validacion=red_neuronal.evaluate(X_test, y_test)\n",
    "print(\"Test loss\", validacion[0])\n",
    "print(\"Test accuracy\", validacion[1])\n",
    "df=df.append(pd.Series({'testLoss': validacion[0], 'testAccuracy': validacion[1], 'trainLoss':history.history['loss'][-1], 'trainAccuracy':history.history['acc'][-1]},name='large-BRNN-1hl-drop'))\n",
    "print(df)"
   ]
  },
  {
   "cell_type": "markdown",
   "metadata": {},
   "source": [
    "BRNN dos layers"
   ]
  },
  {
   "cell_type": "code",
   "execution_count": 23,
   "metadata": {},
   "outputs": [
    {
     "name": "stdout",
     "output_type": "stream",
     "text": [
      "_________________________________________________________________\n",
      "Layer (type)                 Output Shape              Param #   \n",
      "=================================================================\n",
      "embedding_2 (Embedding)      (None, 300, 64)           64000     \n",
      "_________________________________________________________________\n",
      "bidirectional_2 (Bidirection (None, 300, 64)           24832     \n",
      "_________________________________________________________________\n",
      "bidirectional_3 (Bidirection (None, 64)                24832     \n",
      "_________________________________________________________________\n",
      "dense_2 (Dense)              (None, 1)                 65        \n",
      "_________________________________________________________________\n",
      "activation_2 (Activation)    (None, 1)                 0         \n",
      "=================================================================\n",
      "Total params: 113,729\n",
      "Trainable params: 113,729\n",
      "Non-trainable params: 0\n",
      "_________________________________________________________________\n"
     ]
    }
   ],
   "source": [
    "red_neuronal=keras.models.Sequential()\n",
    "red_neuronal.add(keras.layers.embeddings.Embedding(input_dim=max_dic, input_length=max_palabras, output_dim=64))\n",
    "red_neuronal.add(keras.layers.Bidirectional(keras.layers.recurrent.LSTM(32,recurrent_dropout=0.45,return_sequences=True)))\n",
    "red_neuronal.add(keras.layers.Bidirectional(keras.layers.recurrent.LSTM(32,recurrent_dropout=0.45)))\n",
    "red_neuronal.add(keras.layers.core.Dense(1))\n",
    "red_neuronal.add(keras.layers.core.Activation('sigmoid'))\n",
    "red_neuronal.summary()"
   ]
  },
  {
   "cell_type": "code",
   "execution_count": 24,
   "metadata": {},
   "outputs": [
    {
     "name": "stdout",
     "output_type": "stream",
     "text": [
      "Epoch 1/5\n",
      "47500/47500 [==============================] - 739s 16ms/step - loss: 0.4829 - acc: 0.7707\n",
      "Epoch 2/5\n",
      "47500/47500 [==============================] - 785s 17ms/step - loss: 0.4207 - acc: 0.8138\n",
      "Epoch 3/5\n",
      "47500/47500 [==============================] - 747s 16ms/step - loss: 0.3746 - acc: 0.8408\n",
      "Epoch 4/5\n",
      "47500/47500 [==============================] - 729s 15ms/step - loss: 0.3122 - acc: 0.8708\n",
      "Epoch 5/5\n",
      "47500/47500 [==============================] - 731s 15ms/step - loss: 0.2826 - acc: 0.8839\n"
     ]
    }
   ],
   "source": [
    "red_neuronal.compile(loss='binary_crossentropy', optimizer='adam', metrics=[\"accuracy\"])\n",
    "history=red_neuronal.fit(X_train_large, y_large, batch_size=32, epochs=5)"
   ]
  },
  {
   "cell_type": "code",
   "execution_count": 25,
   "metadata": {
    "scrolled": true
   },
   "outputs": [
    {
     "name": "stdout",
     "output_type": "stream",
     "text": [
      "2500/2500 [==============================] - 9s 3ms/step\n",
      "Test loss 0.26430443735122683\n",
      "Test accuracy 0.8932\n",
      "                     testAccuracy  testLoss  trainAccuracy  trainLoss\n",
      "LSTM-1hl                   0.8096  0.420269       0.853200   0.340296\n",
      "LSTM-1hl-drop              0.7912  0.463254       0.815733   0.420051\n",
      "LSTM-2hl-drop              0.8024  0.439722       0.828400   0.396510\n",
      "BRNN-1hl-drop              0.7640  0.491245       0.803600   0.435031\n",
      "large-LSTM-1hl-drop        0.8440  0.359740       0.827663   0.390854\n",
      "BRNN-2hl-drop              0.7576  0.505450       0.826667   0.401276\n",
      "large-LSTM-2hl-drop        0.8580  0.342758       0.827663   0.390854\n",
      "large-LSTM-3hl-drop        0.8640  0.320297       0.861874   0.330984\n",
      "large-BRNN-1hl-drop        0.8640  0.337777       0.829453   0.391300\n",
      "large-BRNN-2hl-drop        0.8932  0.264304       0.883874   0.282644\n"
     ]
    }
   ],
   "source": [
    "validacion=red_neuronal.evaluate(X_test, y_test)\n",
    "print(\"Test loss\", validacion[0])\n",
    "print(\"Test accuracy\", validacion[1])\n",
    "df=df.append(pd.Series({'testLoss': validacion[0], 'testAccuracy': validacion[1], 'trainLoss':history.history['loss'][-1], 'trainAccuracy':history.history['acc'][-1]},name='large-BRNN-2hl-drop'))\n",
    "print(df)"
   ]
  },
  {
   "cell_type": "code",
   "execution_count": 27,
   "metadata": {
    "scrolled": false
   },
   "outputs": [
    {
     "data": {
      "text/plain": [
       "<matplotlib.legend.Legend at 0x1ba77231358>"
      ]
     },
     "execution_count": 27,
     "metadata": {},
     "output_type": "execute_result"
    },
    {
     "data": {
      "text/plain": [
       "<matplotlib.figure.Figure at 0x1ba7725bdd8>"
      ]
     },
     "metadata": {},
     "output_type": "display_data"
    },
    {
     "data": {
      "image/png": "[encoded data removed]",
      "text/plain": [
       "<matplotlib.figure.Figure at 0x1ba77531ba8>"
      ]
     },
     "metadata": {},
     "output_type": "display_data"
    }
   ],
   "source": [
    "import matplotlib.pyplot as plt\n",
    "plt.figure()\n",
    "df.plot(kind='bar',legend=False).legend(loc='center left', bbox_to_anchor=(1, 0.5))"
   ]
  }
 ],
 "metadata": {
  "kernelspec": {
   "display_name": "Python 3",
   "language": "python",
   "name": "python3"
  },
  "language_info": {
   "codemirror_mode": {
    "name": "ipython",
    "version": 3
   },
   "file_extension": ".py",
   "mimetype": "text/x-python",
   "name": "python",
   "nbconvert_exporter": "python",
   "pygments_lexer": "ipython3",
   "version": "3.6.4"
  }
 },
 "nbformat": 4,
 "nbformat_minor": 2
}
